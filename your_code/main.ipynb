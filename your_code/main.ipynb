{
 "cells": [
  {
   "cell_type": "markdown",
   "metadata": {},
   "source": [
    "# Advanced Querying Mongo"
   ]
  },
  {
   "cell_type": "markdown",
   "metadata": {},
   "source": [
    "Importing libraries and setting up connection"
   ]
  },
  {
   "cell_type": "code",
   "execution_count": 45,
   "metadata": {},
   "outputs": [
    {
     "name": "stdout",
     "output_type": "stream",
     "text": [
      "Requirement already satisfied: pymongo in c:\\users\\abeln\\appdata\\local\\anaconda3\\envs\\env1\\lib\\site-packages (4.5.0)Note: you may need to restart the kernel to use updated packages.\n",
      "\n",
      "Requirement already satisfied: dnspython<3.0.0,>=1.16.0 in c:\\users\\abeln\\appdata\\local\\anaconda3\\envs\\env1\\lib\\site-packages (from pymongo) (2.4.2)\n"
     ]
    }
   ],
   "source": [
    "%pip install pymongo"
   ]
  },
  {
   "cell_type": "code",
   "execution_count": 46,
   "metadata": {},
   "outputs": [],
   "source": [
    "from pymongo import MongoClient\n",
    "cursor = MongoClient()"
   ]
  },
  {
   "cell_type": "code",
   "execution_count": 51,
   "metadata": {},
   "outputs": [],
   "source": [
    "str_conn = 'mongodb://localhost:27017'   # str_con por defecto, es nuestra string de conexion\n",
    "\n",
    "cursor = MongoClient(str_conn)\n",
    "\n",
    "db = cursor.Companies \n",
    "datos = db.Collection"
   ]
  },
  {
   "cell_type": "markdown",
   "metadata": {},
   "source": [
    "### 1. All the companies whose name match 'Babelgum'. Retrieve only their `name` field."
   ]
  },
  {
   "cell_type": "code",
   "execution_count": 52,
   "metadata": {},
   "outputs": [
    {
     "data": {
      "text/plain": [
       "[{'name': 'Babelgum'}]"
      ]
     },
     "execution_count": 52,
     "metadata": {},
     "output_type": "execute_result"
    }
   ],
   "source": [
    "# Your Code\n",
    "\n",
    "query = {'name': 'Babelgum'}\n",
    "\n",
    "select = {'_id':False, 'name': 1}  # 0 es que no venga, 1 es que venga, es para columnas\n",
    "\n",
    "list(datos.find(query, select))\n",
    "#resultado[0]['name']  #Dame el valor 0 de name\n"
   ]
  },
  {
   "cell_type": "markdown",
   "metadata": {},
   "source": [
    "### 2. All the companies that have more than 5000 employees. Limit the search to 20 companies and sort them by **number of employees**."
   ]
  },
  {
   "cell_type": "code",
   "execution_count": 60,
   "metadata": {},
   "outputs": [
    {
     "data": {
      "text/plain": [
       "[{'name': 'Siemens', 'number_of_employees': 405000},\n",
       " {'name': 'IBM', 'number_of_employees': 388000},\n",
       " {'name': 'Toyota', 'number_of_employees': 320000},\n",
       " {'name': 'PayPal', 'number_of_employees': 300000},\n",
       " {'name': 'Nippon Telegraph and Telephone Corporation',\n",
       "  'number_of_employees': 227000},\n",
       " {'name': 'Samsung Electronics', 'number_of_employees': 221726},\n",
       " {'name': 'Accenture', 'number_of_employees': 205000},\n",
       " {'name': 'Tata Consultancy Services', 'number_of_employees': 200300},\n",
       " {'name': 'Flextronics International', 'number_of_employees': 200000},\n",
       " {'name': 'Safeway', 'number_of_employees': 186000},\n",
       " {'name': 'Sony', 'number_of_employees': 180500},\n",
       " {'name': 'LG', 'number_of_employees': 177000},\n",
       " {'name': 'Ford', 'number_of_employees': 171000},\n",
       " {'name': 'Boeing', 'number_of_employees': 160000},\n",
       " {'name': 'Digital Equipment Corporation', 'number_of_employees': 140000},\n",
       " {'name': 'Nokia', 'number_of_employees': 125000},\n",
       " {'name': 'MItsubishi Electric', 'number_of_employees': 107000},\n",
       " {'name': 'MItsubishi Electric', 'number_of_employees': 107000},\n",
       " {'name': 'Comcast', 'number_of_employees': 100000},\n",
       " {'name': 'Bertelsmann', 'number_of_employees': 100000}]"
      ]
     },
     "execution_count": 60,
     "metadata": {},
     "output_type": "execute_result"
    }
   ],
   "source": [
    "# Your Code\n",
    "\n",
    "query = {\"number_of_employees\": {'$gte': 5000}} # es lo que busco, y select es lo que me va a dar  \n",
    "\n",
    "#select = {'_id':False, \"number_of_employees\": 1, \"name \": 1} # 0 es que no venga, 1 es que venga, es para columnas\n",
    "select = {'_id':False, \"name\" : 1, \"number_of_employees\": 1} # 0 es que no venga, 1 es que venga, es para columnas\n",
    "\n",
    "list(datos.find(query, select).sort('number_of_employees', -1).limit(20)) # -1 = desc , 1 = asc"
   ]
  },
  {
   "cell_type": "markdown",
   "metadata": {},
   "source": [
    "### 3. All the companies founded between 2000 and 2005, both years included. Retrieve only the `name` and `founded_year` fields."
   ]
  },
  {
   "cell_type": "code",
   "execution_count": 70,
   "metadata": {},
   "outputs": [
    {
     "data": {
      "text/plain": [
       "[{'name': 'Wetpaint', 'founded_year': 2005},\n",
       " {'name': 'Zoho', 'founded_year': 2005},\n",
       " {'name': 'Digg', 'founded_year': 2004},\n",
       " {'name': 'Facebook', 'founded_year': 2004},\n",
       " {'name': 'Omnidrive', 'founded_year': 2005}]"
      ]
     },
     "execution_count": 70,
     "metadata": {},
     "output_type": "execute_result"
    }
   ],
   "source": [
    "# Your Code\n",
    "query = {'founded_year': {'$gte': 2000, '$lte': 2006}}\n",
    "\n",
    "select = {'_id':False, \"name\" : 1, 'founded_year': 1} \n",
    "\n",
    "list(datos.find(query, select).limit(5)) "
   ]
  },
  {
   "cell_type": "markdown",
   "metadata": {},
   "source": [
    "### 4. All the companies that had a Valuation Amount of more than 100.000.000 and have been founded before 2010. Retrieve only the `name` and `ipo` fields."
   ]
  },
  {
   "cell_type": "code",
   "execution_count": 92,
   "metadata": {},
   "outputs": [
    {
     "data": {
      "text/plain": [
       "[{'name': 'Facebook', 'ipo': {'valuation_amount': 104000000000.0}},\n",
       " {'name': 'Twitter', 'ipo': {'valuation_amount': 18100000000.0}},\n",
       " {'name': 'Yelp', 'ipo': {'valuation_amount': 1300000000}},\n",
       " {'name': 'LinkedIn', 'ipo': {'valuation_amount': 9310000000.0}},\n",
       " {'name': 'Amazon', 'ipo': {'valuation_amount': 100000000000.0}}]"
      ]
     },
     "execution_count": 92,
     "metadata": {},
     "output_type": "execute_result"
    }
   ],
   "source": [
    "# Your Code\n",
    "query = {\"ipo.valuation_amount\": {'$gt': 1e8},'founded_year': {'$lt': 2010}}\n",
    "\n",
    "select = {'_id':False, 'name': 1, \"ipo.valuation_amount\" : 1} \n",
    "\n",
    "list(datos.find(query, select).limit(5)) "
   ]
  },
  {
   "cell_type": "markdown",
   "metadata": {},
   "source": [
    "### 5. All the companies that have less than 1000 employees and have been founded before 2005. Order them by the number of employees and limit the search to 10 companies."
   ]
  },
  {
   "cell_type": "code",
   "execution_count": 93,
   "metadata": {},
   "outputs": [
    {
     "data": {
      "text/plain": [
       "[{'name': 'Infinera Corporation', 'number_of_employees': 974},\n",
       " {'name': 'NorthPoint Communications Group', 'number_of_employees': 948},\n",
       " {'name': '888 Holdings', 'number_of_employees': 931},\n",
       " {'name': 'Forrester Research', 'number_of_employees': 903},\n",
       " {'name': 'SonicWALL', 'number_of_employees': 900},\n",
       " {'name': 'Webmetrics', 'number_of_employees': 900},\n",
       " {'name': 'Cornerstone OnDemand', 'number_of_employees': 881},\n",
       " {'name': 'Mozilla', 'number_of_employees': 800},\n",
       " {'name': 'Buongiorno', 'number_of_employees': 800},\n",
       " {'name': 'Yelp', 'number_of_employees': 800}]"
      ]
     },
     "execution_count": 93,
     "metadata": {},
     "output_type": "execute_result"
    }
   ],
   "source": [
    "# Your Code\n",
    "query = {\"number_of_employees\": {'$lt': 1e3},'founded_year': {'$lt': 2005}}\n",
    "\n",
    "select = {'_id':False, 'name': 1, \"number_of_employees\": 1} \n",
    "\n",
    "list(datos.find(query, select).sort('number_of_employees', -1).limit(10)) "
   ]
  },
  {
   "cell_type": "markdown",
   "metadata": {},
   "source": [
    "### 6. All the companies that don't include the `partners` field."
   ]
  },
  {
   "cell_type": "code",
   "execution_count": 94,
   "metadata": {},
   "outputs": [
    {
     "data": {
      "text/plain": [
       "[{'name': 'Wetpaint', 'partners': []},\n",
       " {'name': 'AdventNet', 'partners': []},\n",
       " {'name': 'Zoho', 'partners': []},\n",
       " {'name': 'Digg', 'partners': []},\n",
       " {'name': 'Facebook', 'partners': []},\n",
       " {'name': 'Omnidrive', 'partners': []},\n",
       " {'name': 'Postini', 'partners': []},\n",
       " {'name': 'Geni', 'partners': []},\n",
       " {'name': 'Flektor', 'partners': []},\n",
       " {'name': 'Fox Interactive Media', 'partners': []}]"
      ]
     },
     "execution_count": 94,
     "metadata": {},
     "output_type": "execute_result"
    }
   ],
   "source": [
    "# Your Code\n",
    "query = {\"partners\": {\"$exists\": \"empty\"}}\n",
    "\n",
    "select = {'_id':False, 'name': 1, \"partners\": 1} \n",
    "\n",
    "list(datos.find(query, select).limit(10)) "
   ]
  },
  {
   "cell_type": "markdown",
   "metadata": {},
   "source": [
    "### 7. All the companies that have a null type of value on the `category_code` field."
   ]
  },
  {
   "cell_type": "code",
   "execution_count": 99,
   "metadata": {},
   "outputs": [
    {
     "data": {
      "text/plain": [
       "[{'name': 'Collective', 'category_code': None},\n",
       " {'name': 'Snimmer', 'category_code': None},\n",
       " {'name': 'KoolIM', 'category_code': None},\n",
       " {'name': 'Level9 Media', 'category_code': None},\n",
       " {'name': 'VidKing', 'category_code': None}]"
      ]
     },
     "execution_count": 99,
     "metadata": {},
     "output_type": "execute_result"
    }
   ],
   "source": [
    "# Your Code\n",
    "query = {\"category_code\": None}\n",
    "\n",
    "select = {'_id':False, 'name': 1, \"category_code\" : 1} \n",
    "\n",
    "list(datos.find(query, select).limit(5)) "
   ]
  },
  {
   "cell_type": "markdown",
   "metadata": {},
   "source": [
    "### 8. All the companies that have at least 100 employees but less than 1000. Retrieve only the `name` and `number of employees` fields."
   ]
  },
  {
   "cell_type": "code",
   "execution_count": 100,
   "metadata": {},
   "outputs": [
    {
     "data": {
      "text/plain": [
       "[{'name': 'AdventNet', 'number_of_employees': 600},\n",
       " {'name': 'AddThis', 'number_of_employees': 120},\n",
       " {'name': 'OpenX', 'number_of_employees': 305},\n",
       " {'name': 'LifeLock', 'number_of_employees': 644},\n",
       " {'name': 'Jajah', 'number_of_employees': 110}]"
      ]
     },
     "execution_count": 100,
     "metadata": {},
     "output_type": "execute_result"
    }
   ],
   "source": [
    "# Your Code\n",
    "query = {\"number_of_employees\": {'$gt': 100, '$lt': 1000}}\n",
    "\n",
    "select = {'_id':False, 'name': 1, \"number_of_employees\" : 1} \n",
    "\n",
    "list(datos.find(query, select).limit(5)) "
   ]
  },
  {
   "cell_type": "markdown",
   "metadata": {},
   "source": [
    "### 9. Order all the companies by their IPO price in a descending order."
   ]
  },
  {
   "cell_type": "code",
   "execution_count": 105,
   "metadata": {},
   "outputs": [
    {
     "data": {
      "text/plain": [
       "[{'name': 'GREE', 'ipo': {'valuation_amount': 108960000000.0}},\n",
       " {'name': 'Facebook', 'ipo': {'valuation_amount': 104000000000.0}},\n",
       " {'name': 'Amazon', 'ipo': {'valuation_amount': 100000000000.0}},\n",
       " {'name': 'Twitter', 'ipo': {'valuation_amount': 18100000000.0}},\n",
       " {'name': 'Groupon', 'ipo': {'valuation_amount': 12800000000.0}}]"
      ]
     },
     "execution_count": 105,
     "metadata": {},
     "output_type": "execute_result"
    }
   ],
   "source": [
    "# Your Code\n",
    "query = {\"ipo.valuation_amount\": {'$exists': True}}\n",
    "\n",
    "select = {'_id':False, 'name': 1, \"ipo.valuation_amount\": 1} \n",
    "\n",
    "list(datos.find(query, select).sort(\"ipo.valuation_amount\", -1).limit(5)) "
   ]
  },
  {
   "cell_type": "markdown",
   "metadata": {},
   "source": [
    "### 10. Retrieve the 10 companies with more employees, order by the `number of employees`"
   ]
  },
  {
   "cell_type": "code",
   "execution_count": 107,
   "metadata": {},
   "outputs": [
    {
     "data": {
      "text/plain": [
       "[{'name': 'Siemens', 'number_of_employees': 405000},\n",
       " {'name': 'IBM', 'number_of_employees': 388000},\n",
       " {'name': 'Toyota', 'number_of_employees': 320000},\n",
       " {'name': 'PayPal', 'number_of_employees': 300000},\n",
       " {'name': 'Nippon Telegraph and Telephone Corporation',\n",
       "  'number_of_employees': 227000},\n",
       " {'name': 'Samsung Electronics', 'number_of_employees': 221726},\n",
       " {'name': 'Accenture', 'number_of_employees': 205000},\n",
       " {'name': 'Tata Consultancy Services', 'number_of_employees': 200300},\n",
       " {'name': 'Flextronics International', 'number_of_employees': 200000},\n",
       " {'name': 'Safeway', 'number_of_employees': 186000}]"
      ]
     },
     "execution_count": 107,
     "metadata": {},
     "output_type": "execute_result"
    }
   ],
   "source": [
    "# Your Code\n",
    "query = {\"number_of_employees\": {'$ne': True}}\n",
    "\n",
    "select = {'_id':False, 'name': 1, \"number_of_employees\": 1} \n",
    "\n",
    "list(datos.find(query, select).sort(\"number_of_employees\", -1).limit(10)) "
   ]
  },
  {
   "cell_type": "markdown",
   "metadata": {},
   "source": [
    "### 11. All the companies founded on the second semester of the year. Limit your search to 1000 companies."
   ]
  },
  {
   "cell_type": "code",
   "execution_count": 111,
   "metadata": {},
   "outputs": [
    {
     "data": {
      "text/plain": [
       "[{'name': 'Wetpaint', 'founded_month': 10},\n",
       " {'name': 'Zoho', 'founded_month': 9},\n",
       " {'name': 'Digg', 'founded_month': 10},\n",
       " {'name': 'Omnidrive', 'founded_month': 11},\n",
       " {'name': 'Postini', 'founded_month': 6},\n",
       " {'name': 'Geni', 'founded_month': 6},\n",
       " {'name': 'Fox Interactive Media', 'founded_month': 6},\n",
       " {'name': 'eBay', 'founded_month': 9},\n",
       " {'name': 'Joost', 'founded_month': 10},\n",
       " {'name': 'Plaxo', 'founded_month': 11}]"
      ]
     },
     "execution_count": 111,
     "metadata": {},
     "output_type": "execute_result"
    }
   ],
   "source": [
    "# Your Code\n",
    "\n",
    "query = {\"founded_month\": {'$gte': 6, '$lte': 12}}\n",
    "\n",
    "select = {'_id':False, 'name': 1, \"founded_month\": 1} \n",
    "\n",
    "list(datos.find(query, select).limit(10)) "
   ]
  },
  {
   "cell_type": "markdown",
   "metadata": {},
   "source": [
    "### 12. All the companies founded before 2000 that have an acquisition amount of more than 10.000.00"
   ]
  },
  {
   "cell_type": "code",
   "execution_count": 124,
   "metadata": {},
   "outputs": [
    {
     "data": {
      "text/plain": [
       "[{'name': 'BEA Systems',\n",
       "  'founded_year': 1995,\n",
       "  'acquisition': {'price_amount': 8500000000.0}},\n",
       " {'name': 'Navteq',\n",
       "  'founded_year': 1985,\n",
       "  'acquisition': {'price_amount': 8100000000.0}},\n",
       " {'name': 'Sun Microsystems',\n",
       "  'founded_year': 1982,\n",
       "  'acquisition': {'price_amount': 7400000000.0}},\n",
       " {'name': 'Pixar',\n",
       "  'founded_year': 1986,\n",
       "  'acquisition': {'price_amount': 7400000000.0}},\n",
       " {'name': 'LSI',\n",
       "  'founded_year': 1980,\n",
       "  'acquisition': {'price_amount': 6600000000.0}},\n",
       " {'name': 'National Semiconductor',\n",
       "  'founded_year': 1959,\n",
       "  'acquisition': {'price_amount': 6500000000.0}},\n",
       " {'name': 'aQuantive',\n",
       "  'founded_year': 1997,\n",
       "  'acquisition': {'price_amount': 6400000000.0}},\n",
       " {'name': 'Siebel Systems',\n",
       "  'founded_year': 1993,\n",
       "  'acquisition': {'price_amount': 5850000000.0}},\n",
       " {'name': 'Sybase',\n",
       "  'founded_year': 1984,\n",
       "  'acquisition': {'price_amount': 5800000000.0}},\n",
       " {'name': 'Affiliated Computer Services',\n",
       "  'founded_year': 1988,\n",
       "  'acquisition': {'price_amount': 5750000000.0}}]"
      ]
     },
     "execution_count": 124,
     "metadata": {},
     "output_type": "execute_result"
    }
   ],
   "source": [
    "# Your Code\n",
    "\n",
    "query = {\"founded_year\": {'$lt': 2000}, \n",
    "         \"acquisition.price_amount\": {'$gt': 1e7}}\n",
    "\n",
    "select = {'_id':False, 'name': 1, \"founded_year\": 1, \"acquisition.price_amount\": 1} \n",
    "\n",
    "list(datos.find(query, select).limit(10)) "
   ]
  },
  {
   "cell_type": "markdown",
   "metadata": {},
   "source": [
    "### 13. All the companies that have been acquired after 2010, order by the acquisition amount, and retrieve only their `name` and `acquisition` field."
   ]
  },
  {
   "cell_type": "code",
   "execution_count": 128,
   "metadata": {},
   "outputs": [
    {
     "data": {
      "text/plain": [
       "[{'name': 'T-Mobile',\n",
       "  'acquisition': {'price_amount': 39000000000.0,\n",
       "   'price_currency_code': 'USD',\n",
       "   'term_code': None,\n",
       "   'source_url': 'http://techcrunch.com/2011/03/20/in-the-race-for-more-spectrum-att-is-acquiring-t-mobile-for-39-billion/',\n",
       "   'source_description': 'In The Race For More Spectrum, AT&T Is Acquiring T-Mobile For $39 Billion',\n",
       "   'acquired_year': 2011,\n",
       "   'acquired_month': 3,\n",
       "   'acquired_day': 20,\n",
       "   'acquiring_company': {'name': 'AT&T', 'permalink': 'at-t'}}},\n",
       " {'name': 'Goodrich Corporation',\n",
       "  'acquisition': {'price_amount': 18400000000.0,\n",
       "   'price_currency_code': 'USD',\n",
       "   'term_code': None,\n",
       "   'source_url': 'http://www.masshightech.com/stories/2011/09/19/daily37-UTC-shells-out-184-billion-for-Goodrich.html',\n",
       "   'source_description': 'UTC shells out $18.4 billion for Goodrich',\n",
       "   'acquired_year': 2011,\n",
       "   'acquired_month': 9,\n",
       "   'acquired_day': 22,\n",
       "   'acquiring_company': {'name': 'United Technologies',\n",
       "    'permalink': 'united-technologies'}}}]"
      ]
     },
     "execution_count": 128,
     "metadata": {},
     "output_type": "execute_result"
    }
   ],
   "source": [
    "# Your Code\n",
    "query = {\"acquisition.acquired_year\": {'$gt': 2010}}\n",
    "\n",
    "select = {'_id':False, 'name': 1, \"acquisition\": 1} \n",
    "\n",
    "list(datos.find(query, select).sort(\"acquisition.price_amount\", -1).limit(2)) "
   ]
  },
  {
   "cell_type": "markdown",
   "metadata": {},
   "source": [
    "### 14. Order the companies by their `founded year`, retrieving only their `name` and `founded year`."
   ]
  },
  {
   "cell_type": "code",
   "execution_count": 130,
   "metadata": {},
   "outputs": [
    {
     "data": {
      "text/plain": [
       "[{'name': 'Wetpaint', 'founded_year': 2005},\n",
       " {'name': 'AdventNet', 'founded_year': 1996},\n",
       " {'name': 'Zoho', 'founded_year': 2005},\n",
       " {'name': 'Digg', 'founded_year': 2004},\n",
       " {'name': 'Facebook', 'founded_year': 2004}]"
      ]
     },
     "execution_count": 130,
     "metadata": {},
     "output_type": "execute_result"
    }
   ],
   "source": [
    "# Your Code\n",
    "\n",
    "query = {\"founded_year\": {'$exists': True}}\n",
    "\n",
    "select = {'_id':False, 'name': 1, \"founded_year\": 1} \n",
    "\n",
    "list(datos.find(query, select).limit(5)) "
   ]
  },
  {
   "cell_type": "markdown",
   "metadata": {},
   "source": [
    "### 15. All the companies that have been founded on the first seven days of the month, including the seventh. Sort them by their `acquisition price` in a descending order. Limit the search to 10 documents."
   ]
  },
  {
   "cell_type": "code",
   "execution_count": 134,
   "metadata": {},
   "outputs": [
    {
     "data": {
      "text/plain": [
       "[{'name': 'Netscape', 'acquisition': {'price_amount': 4200000000.0}},\n",
       " {'name': 'PayPal', 'acquisition': {'price_amount': 1500000000}},\n",
       " {'name': 'Zappos', 'acquisition': {'price_amount': 1200000000}},\n",
       " {'name': 'Alibaba', 'acquisition': {'price_amount': 1000000000}},\n",
       " {'name': 'Postini', 'acquisition': {'price_amount': 625000000}}]"
      ]
     },
     "execution_count": 134,
     "metadata": {},
     "output_type": "execute_result"
    }
   ],
   "source": [
    "# Your Code\n",
    "query = {\"founded_day\": {'$lte': 7}}\n",
    "\n",
    "select = {'_id':False, 'name': 1, \"acquisition.price_amount\": 1} \n",
    "\n",
    "list(datos.find(query, select).sort(\"acquisition.price_amount\", -1).limit(5)) "
   ]
  },
  {
   "cell_type": "markdown",
   "metadata": {},
   "source": [
    "### 16. All the companies on the 'web' `category` that have more than 4000 employees. Sort them by the amount of employees in ascending order."
   ]
  },
  {
   "cell_type": "code",
   "execution_count": 136,
   "metadata": {},
   "outputs": [
    {
     "data": {
      "text/plain": [
       "[{'name': 'Experian', 'number_of_employees': 15500},\n",
       " {'name': 'eBay', 'number_of_employees': 15000},\n",
       " {'name': 'Yahoo!', 'number_of_employees': 13600},\n",
       " {'name': 'Los Angeles Times Media Group', 'number_of_employees': 10000},\n",
       " {'name': 'Rakuten', 'number_of_employees': 10000}]"
      ]
     },
     "execution_count": 136,
     "metadata": {},
     "output_type": "execute_result"
    }
   ],
   "source": [
    "# Your Code\n",
    "query = {\"category_code\": \"web\", \"number_of_employees\": {'$gt': 4000}}\n",
    "\n",
    "select = {'_id':False, 'name': 1, \"number_of_employees\": 1} \n",
    "\n",
    "list(datos.find(query, select).sort(\"number_of_employees\", -1).limit(5)) "
   ]
  },
  {
   "cell_type": "markdown",
   "metadata": {},
   "source": [
    "### 17. All the companies whose acquisition amount is more than 10.000.000, and currency is 'EUR'."
   ]
  },
  {
   "cell_type": "code",
   "execution_count": 137,
   "metadata": {},
   "outputs": [
    {
     "data": {
      "text/plain": [
       "[{'name': 'ZYB',\n",
       "  'acquisition': {'price_amount': 31500000, 'price_currency_code': 'EUR'}},\n",
       " {'name': 'Apertio',\n",
       "  'acquisition': {'price_amount': 140000000, 'price_currency_code': 'EUR'}},\n",
       " {'name': 'Greenfield Online',\n",
       "  'acquisition': {'price_amount': 40000000, 'price_currency_code': 'EUR'}},\n",
       " {'name': 'Webedia',\n",
       "  'acquisition': {'price_amount': 70000000, 'price_currency_code': 'EUR'}},\n",
       " {'name': 'Wayfinder',\n",
       "  'acquisition': {'price_amount': 24000000, 'price_currency_code': 'EUR'}}]"
      ]
     },
     "execution_count": 137,
     "metadata": {},
     "output_type": "execute_result"
    }
   ],
   "source": [
    "# Your Code\n",
    "\n",
    "query = {\"acquisition.price_amount\" : {'$gt': 1e7}, \"acquisition.price_currency_code\": \"EUR\" }\n",
    "\n",
    "select = {'_id':False, 'name': 1, \"acquisition.price_amount\": 1, \"acquisition.price_currency_code\": 1 } \n",
    "\n",
    "list(datos.find(query, select).limit(5)) "
   ]
  },
  {
   "cell_type": "markdown",
   "metadata": {},
   "source": [
    "### 18. All the companies that have been acquired on the first trimester of the year. Limit the search to 10 companies, and retrieve only their `name` and `acquisition` fields."
   ]
  },
  {
   "cell_type": "code",
   "execution_count": 138,
   "metadata": {},
   "outputs": [
    {
     "data": {
      "text/plain": [
       "[{'name': 'Kyte',\n",
       "  'acquisition': {'price_amount': None,\n",
       "   'price_currency_code': 'USD',\n",
       "   'term_code': None,\n",
       "   'source_url': 'http://techcrunch.com/2011/01/31/exclusive-kit-digital-acquires-kickapps-kewego-and-kyte-for-77-2-million/',\n",
       "   'source_description': 'KIT digital Acquires KickApps, Kewego AND Kyte For $77.2 Million',\n",
       "   'acquired_year': 2011,\n",
       "   'acquired_month': 1,\n",
       "   'acquired_day': 31,\n",
       "   'acquiring_company': {'name': 'KIT digital', 'permalink': 'kit-digital'}}},\n",
       " {'name': 'NetRatings',\n",
       "  'acquisition': {'price_amount': 327000000,\n",
       "   'price_currency_code': 'USD',\n",
       "   'term_code': 'cash',\n",
       "   'source_url': 'http://login.vnuemedia.com/hr/login/login_subscribe.jsp?id=0oqDem1gYIfIclz9i2%2Ffqj5NxCp2AC5DPbVnyT2da8GyV2mXjasabE128n69OrmcAh52%2FGE3pSG%2F%0AEKRYD9vh9EhrJrxukmUzh532fSMTZXL42gwPB80UWVtF1NwJ5UZSM%2BCkLU1mpYBoHFgiH%2Fi0f6Ax%0A9yMIVxt47t%2BHamhEQ0nkOEK24L',\n",
       "   'source_description': 'Nielsen buys rest of NetRatings',\n",
       "   'acquired_year': 2007,\n",
       "   'acquired_month': 2,\n",
       "   'acquired_day': None,\n",
       "   'acquiring_company': {'name': 'Nielsen', 'permalink': 'nielsen'}}},\n",
       " {'name': 'blogTV',\n",
       "  'acquisition': {'price_amount': None,\n",
       "   'price_currency_code': 'USD',\n",
       "   'term_code': None,\n",
       "   'source_url': 'http://techcrunch.com/2013/03/13/younow-buys-blogtv/',\n",
       "   'source_description': 'Live Social Video Network YouNow Acquires Streaming Service BlogTV',\n",
       "   'acquired_year': 2013,\n",
       "   'acquired_month': 3,\n",
       "   'acquired_day': 13,\n",
       "   'acquiring_company': {'name': 'YouNow', 'permalink': 'younow'}}},\n",
       " {'name': 'Livestream',\n",
       "  'acquisition': {'price_amount': None,\n",
       "   'price_currency_code': 'USD',\n",
       "   'term_code': 'cash_and_stock',\n",
       "   'source_url': '',\n",
       "   'source_description': 'company',\n",
       "   'acquired_year': 2008,\n",
       "   'acquired_month': 1,\n",
       "   'acquired_day': 1,\n",
       "   'acquiring_company': {'name': 'Adviqo', 'permalink': 'adviqo'}}},\n",
       " {'name': 'iContact',\n",
       "  'acquisition': {'price_amount': 169000000,\n",
       "   'price_currency_code': 'USD',\n",
       "   'term_code': 'cash_and_stock',\n",
       "   'source_url': 'http://techcrunch.com/2012/02/28/vocus-buys-email-marketing-company-icontact-for-169-million/',\n",
       "   'source_description': 'Vocus Buys Email Marketing Company iContact For $169 Million',\n",
       "   'acquired_year': 2012,\n",
       "   'acquired_month': 2,\n",
       "   'acquired_day': 28,\n",
       "   'acquiring_company': {'name': 'Vocus', 'permalink': 'vocus'}}}]"
      ]
     },
     "execution_count": 138,
     "metadata": {},
     "output_type": "execute_result"
    }
   ],
   "source": [
    "# Your Code\n",
    "query = {\"acquisition.acquired_month\" : {'$lte': 3}}\n",
    "\n",
    "select = {'_id':False, 'name': 1, \"acquisition\": 1} \n",
    "\n",
    "list(datos.find(query, select).limit(5)) "
   ]
  },
  {
   "cell_type": "markdown",
   "metadata": {},
   "source": [
    "# Bonus\n",
    "### 19. All the companies that have been founded between 2000 and 2010, but have not been acquired before 2011."
   ]
  },
  {
   "cell_type": "code",
   "execution_count": 143,
   "metadata": {},
   "outputs": [
    {
     "data": {
      "text/plain": [
       "[{'name': 'Wetpaint',\n",
       "  'founded_year': 2005,\n",
       "  'acquisition': {'acquired_year': 2013}},\n",
       " {'name': 'Digg',\n",
       "  'founded_year': 2004,\n",
       "  'acquisition': {'acquired_year': 2012}},\n",
       " {'name': 'Geni',\n",
       "  'founded_year': 2006,\n",
       "  'acquisition': {'acquired_year': 2012}},\n",
       " {'name': 'Kyte',\n",
       "  'founded_year': 2006,\n",
       "  'acquisition': {'acquired_year': 2011}},\n",
       " {'name': 'Jingle Networks',\n",
       "  'founded_year': 2005,\n",
       "  'acquisition': {'acquired_year': 2011}}]"
      ]
     },
     "execution_count": 143,
     "metadata": {},
     "output_type": "execute_result"
    }
   ],
   "source": [
    "# Your Code\n",
    "query = {\"founded_year\" : {'$gte': 2000, '$lte': 2010}, \"acquisition.acquired_year\": {'$gte': 2011}}\n",
    "\n",
    "select = {'_id':False, 'name': 1, \"founded_year\": 1, \"acquisition.acquired_year\": 1} \n",
    "\n",
    "list(datos.find(query, select).limit(5)) "
   ]
  },
  {
   "cell_type": "markdown",
   "metadata": {},
   "source": [
    "### 20. All the companies that have been 'deadpooled' after the third year."
   ]
  },
  {
   "cell_type": "code",
   "execution_count": null,
   "metadata": {},
   "outputs": [],
   "source": [
    "# Your Code"
   ]
  }
 ],
 "metadata": {
  "kernelspec": {
   "display_name": "Python 3",
   "language": "python",
   "name": "python3"
  },
  "language_info": {
   "codemirror_mode": {
    "name": "ipython",
    "version": 3
   },
   "file_extension": ".py",
   "mimetype": "text/x-python",
   "name": "python",
   "nbconvert_exporter": "python",
   "pygments_lexer": "ipython3",
   "version": "3.11.5"
  }
 },
 "nbformat": 4,
 "nbformat_minor": 2
}
