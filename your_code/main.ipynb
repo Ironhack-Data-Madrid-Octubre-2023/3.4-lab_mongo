{
 "cells": [
  {
   "cell_type": "markdown",
   "metadata": {},
   "source": [
    "# Advanced Querying Mongo"
   ]
  },
  {
   "cell_type": "markdown",
   "metadata": {},
   "source": [
    "Importing libraries and setting up connection"
   ]
  },
  {
   "cell_type": "code",
   "execution_count": null,
   "metadata": {},
   "outputs": [],
   "source": [
    "%pip install pymongo"
   ]
  },
  {
   "cell_type": "code",
   "execution_count": null,
   "metadata": {},
   "outputs": [],
   "source": [
    "from pymongo import MongoClient\n",
    "import pymongo\n",
    "import pandas as pd"
   ]
  },
  {
   "cell_type": "code",
   "execution_count": null,
   "metadata": {},
   "outputs": [],
   "source": [
    "cursor = MongoClient()\n",
    "str_conn = 'mongodb://localhost:27017'\n",
    "cursor = MongoClient(str_conn)\n",
    "db = cursor.Companies \n",
    "colec = db.Collection"
   ]
  },
  {
   "cell_type": "markdown",
   "metadata": {},
   "source": [
    "### 1. All the companies whose name match 'Babelgum'. Retrieve only their `name` field."
   ]
  },
  {
   "cell_type": "code",
   "execution_count": null,
   "metadata": {},
   "outputs": [],
   "source": [
    "# Your Code\n",
    "query = {'name': 'Babelgum'}\n",
    "select = {'_id': False, 'name': 1}\n",
    "result = list(colec.find(query, select))\n",
    "result"
   ]
  },
  {
   "cell_type": "markdown",
   "metadata": {},
   "source": [
    "### 2. All the companies that have more than 5000 employees. Limit the search to 20 companies and sort them by **number of employees**."
   ]
  },
  {
   "cell_type": "code",
   "execution_count": null,
   "metadata": {},
   "outputs": [],
   "source": [
    "# Your Code\n",
    "query={'number_of_employees': {'$gt': 5000}} \n",
    "select= {'_id': 0, 'name': 1, 'number_of_employees' : 1}\n",
    "result = list(colec.find(query, select).limit(20))\n",
    "result"
   ]
  },
  {
   "cell_type": "markdown",
   "metadata": {},
   "source": [
    "### 3. All the companies founded between 2000 and 2005, both years included. Retrieve only the `name` and `founded_year` fields."
   ]
  },
  {
   "cell_type": "code",
   "execution_count": null,
   "metadata": {},
   "outputs": [],
   "source": [
    "# Your Code\n",
    "query = {'$and': [{'founded_year': {'$lte': 2005}},{'founded_year': {'$gte': 2000}}]}\n",
    "select = {'_id':False, 'name': 1, 'founded_year':1}\n",
    "list(colec.find(query,select).limit(20))"
   ]
  },
  {
   "cell_type": "markdown",
   "metadata": {},
   "source": [
    "### 4. All the companies that had a Valuation Amount of more than 100.000.000 and have been founded before 2010. Retrieve only the `name` and `ipo` fields."
   ]
  },
  {
   "cell_type": "code",
   "execution_count": null,
   "metadata": {},
   "outputs": [],
   "source": [
    "# Your Code\n",
    "query = {'$and': [{'ipo.valuation_amount': {'$gt': 100000000}}, {'founded_year': {'$lt': 2010}}]}\n",
    "select = {'_id': False, 'name': 1, 'ipo': 1}\n",
    "result = list(colec.find(query, select))\n",
    "print(result)"
   ]
  },
  {
   "cell_type": "markdown",
   "metadata": {},
   "source": [
    "### 5. All the companies that have less than 1000 employees and have been founded before 2005. Order them by the number of employees and limit the search to 10 companies."
   ]
  },
  {
   "cell_type": "code",
   "execution_count": null,
   "metadata": {},
   "outputs": [],
   "source": [
    "# Your Code\n",
    "query = {\"number_of_employees\": {'$lt': 1e3},'founded_year': {'$lt': 2005}}\n",
    "select = {'_id':False, 'name': 1, \"number_of_employees\": 1} \n",
    "list(colec.find(query, select).sort('number_of_employees', -1).limit(10)) "
   ]
  },
  {
   "cell_type": "markdown",
   "metadata": {},
   "source": [
    "### 6. All the companies that don't include the `partners` field."
   ]
  },
  {
   "cell_type": "code",
   "execution_count": null,
   "metadata": {},
   "outputs": [],
   "source": [
    "# Your Code\n",
    "query = {'partners': {'$exists': False}}\n",
    "select = {'_id': False, 'name': 1, 'ipo': 1}\n",
    "result = list(colec.find(query, select))\n",
    "result"
   ]
  },
  {
   "cell_type": "markdown",
   "metadata": {},
   "source": [
    "### 7. All the companies that have a null type of value on the `category_code` field."
   ]
  },
  {
   "cell_type": "code",
   "execution_count": null,
   "metadata": {},
   "outputs": [],
   "source": [
    "# Your Code\n",
    "query = {\"category_code\": None}\n",
    "select = {'_id':False, 'name': 1, \"category_code\" : 1} \n",
    "list(colec.find(query, select).limit(5)) "
   ]
  },
  {
   "cell_type": "markdown",
   "metadata": {},
   "source": [
    "### 8. All the companies that have at least 100 employees but less than 1000. Retrieve only the `name` and `number of employees` fields."
   ]
  },
  {
   "cell_type": "code",
   "execution_count": null,
   "metadata": {},
   "outputs": [],
   "source": [
    "# Your Code\n",
    "query = {'$and': [{'number_of_employees': {'$gte': 100}}, {'number_of_employees': {'$lt': 1000}}]}\n",
    "select = {'_id': False, 'name': 1, 'number_of_employees': 1}\n",
    "result = list(colec.find(query, select))\n",
    "result"
   ]
  },
  {
   "cell_type": "markdown",
   "metadata": {},
   "source": [
    "### 9. Order all the companies by their IPO price in a descending order."
   ]
  },
  {
   "cell_type": "code",
   "execution_count": null,
   "metadata": {},
   "outputs": [],
   "source": [
    "# Your Code\n",
    "query = {}\n",
    "select = {'_id': False, 'name': 1, 'ipo': 1}\n",
    "result = list(colec.find(query, select).sort('ipo.valuation_amount', -1))\n",
    "result"
   ]
  },
  {
   "cell_type": "markdown",
   "metadata": {},
   "source": [
    "### 10. Retrieve the 10 companies with more employees, order by the `number of employees`"
   ]
  },
  {
   "cell_type": "code",
   "execution_count": null,
   "metadata": {},
   "outputs": [],
   "source": [
    "# Your Code\n",
    "query = {\"number_of_employees\": {'$ne': True}}\n",
    "select = {'_id':False, 'name': 1, \"number_of_employees\": 1} \n",
    "list(colec.find(query, select).sort(\"number_of_employees\", -1).limit(10)) "
   ]
  },
  {
   "cell_type": "markdown",
   "metadata": {},
   "source": [
    "### 11. All the companies founded on the second semester of the year. Limit your search to 1000 companies."
   ]
  },
  {
   "cell_type": "code",
   "execution_count": null,
   "metadata": {},
   "outputs": [],
   "source": [
    "# Your Code\n",
    "query={'$and': [{'founded_month': {'$lte': 12}},\n",
    "                {'founded_month': {'$gte': 6}}]}\n",
    "                \n",
    "select= {'_id': 0, 'name': 1}\n",
    "result = list(colec.find(query, select).limit(10))\n",
    "result"
   ]
  },
  {
   "cell_type": "markdown",
   "metadata": {},
   "source": [
    "### 12. All the companies founded before 2000 that have an acquisition amount of more than 10.000.00"
   ]
  },
  {
   "cell_type": "code",
   "execution_count": null,
   "metadata": {},
   "outputs": [],
   "source": [
    "# Your Code\n",
    "query = {'$and': [{'founded_year': {'$lt': 2000}},\n",
    "                  {'acquisition.price_amount': {'$gt': 10_000_000}}\n",
    "                 ]}\n",
    "\n",
    "select = {'_id': False, 'name':1, 'founded': 1, 'acquisition.price_amount': 1}\n",
    "list(colec.find(query, select).limit(10)) "
   ]
  },
  {
   "cell_type": "markdown",
   "metadata": {},
   "source": [
    "### 13. All the companies that have been acquired after 2010, order by the acquisition amount, and retrieve only their `name` and `acquisition` field."
   ]
  },
  {
   "cell_type": "code",
   "execution_count": null,
   "metadata": {},
   "outputs": [],
   "source": [
    "# Your Code\n",
    "query = {'acquisition.acquired_year': {'$gt': 2010}}\n",
    "select = {'_id': False, 'name': 1, 'acquisition': 1}\n",
    "result = list(colec.find(query, select).sort('acquisition.price_amount', -1))\n",
    "result"
   ]
  },
  {
   "cell_type": "markdown",
   "metadata": {},
   "source": [
    "### 14. Order the companies by their `founded year`, retrieving only their `name` and `founded year`."
   ]
  },
  {
   "cell_type": "code",
   "execution_count": null,
   "metadata": {},
   "outputs": [],
   "source": [
    "# Your Code\n",
    "query={}\n",
    "select={'name': True, 'founded_year': True, '_id': 0}\n",
    "list(colec.find(query, select).limit(10))"
   ]
  },
  {
   "cell_type": "markdown",
   "metadata": {},
   "source": [
    "### 15. All the companies that have been founded on the first seven days of the month, including the seventh. Sort them by their `acquisition price` in a descending order. Limit the search to 10 documents."
   ]
  },
  {
   "cell_type": "code",
   "execution_count": null,
   "metadata": {},
   "outputs": [],
   "source": [
    "# Your Code\n",
    "query={'founded_day': {'$lte': 7}}\n",
    "select= {'_id': 0, 'name': 1, 'founded_day':1, 'price_amount':1}\n",
    "result = list(colec.find(query, select).sort('price_amount', -1).limit(10))\n",
    "result"
   ]
  },
  {
   "cell_type": "markdown",
   "metadata": {},
   "source": [
    "### 16. All the companies on the 'web' `category` that have more than 4000 employees. Sort them by the amount of employees in ascending order."
   ]
  },
  {
   "cell_type": "code",
   "execution_count": null,
   "metadata": {},
   "outputs": [],
   "source": [
    "# Your Code\n",
    "query = {\"category_code\": \"web\", \"number_of_employees\": {'$gt': 4000}}\n",
    "select = {'_id':False, 'name': 1, \"number_of_employees\": 1} \n",
    "list(colec.find(query, select).sort(\"number_of_employees\", -1).limit(10)) "
   ]
  },
  {
   "cell_type": "markdown",
   "metadata": {},
   "source": [
    "### 17. All the companies whose acquisition amount is more than 10.000.000, and currency is 'EUR'."
   ]
  },
  {
   "cell_type": "code",
   "execution_count": null,
   "metadata": {},
   "outputs": [],
   "source": [
    "# Your Code\n",
    "query = {'$and':[{'acquisition.price_amount': {'$gte':10_000_000}}, {'acquisition.price_currency_code': 'EUR'}]}\n",
    "select = {'_id':False, 'name':True, 'acquisition.price_currency_code':True, 'acquisition.price_amount':True}\n",
    "list(colec.find(query, select).sort('acquisition.price_amount',-1))\n"
   ]
  },
  {
   "cell_type": "markdown",
   "metadata": {},
   "source": [
    "### 18. All the companies that have been acquired on the first trimester of the year. Limit the search to 10 companies, and retrieve only their `name` and `acquisition` fields."
   ]
  },
  {
   "cell_type": "code",
   "execution_count": null,
   "metadata": {},
   "outputs": [],
   "source": [
    "# Your Code\n",
    "query = {'acquisition.acquired_month': {'$lte':3}}\n",
    "select = {'_id':False, 'name':True, 'acquisition.acquired_month':True}\n",
    "list(colec.find(query, select).limit(10))"
   ]
  },
  {
   "cell_type": "markdown",
   "metadata": {},
   "source": [
    "# Bonus\n",
    "### 19. All the companies that have been founded between 2000 and 2010, but have not been acquired before 2011."
   ]
  },
  {
   "cell_type": "code",
   "execution_count": null,
   "metadata": {},
   "outputs": [],
   "source": [
    "# Your Code"
   ]
  },
  {
   "cell_type": "markdown",
   "metadata": {},
   "source": [
    "### 20. All the companies that have been 'deadpooled' after the third year."
   ]
  },
  {
   "cell_type": "code",
   "execution_count": null,
   "metadata": {},
   "outputs": [],
   "source": [
    "# Your Code"
   ]
  }
 ],
 "metadata": {
  "kernelspec": {
   "display_name": "Python 3 (ipykernel)",
   "language": "python",
   "name": "python3"
  },
  "language_info": {
   "codemirror_mode": {
    "name": "ipython",
    "version": 3
   },
   "file_extension": ".py",
   "mimetype": "text/x-python",
   "name": "python",
   "nbconvert_exporter": "python",
   "pygments_lexer": "ipython3",
   "version": "3.11.3"
  }
 },
 "nbformat": 4,
 "nbformat_minor": 2
}
