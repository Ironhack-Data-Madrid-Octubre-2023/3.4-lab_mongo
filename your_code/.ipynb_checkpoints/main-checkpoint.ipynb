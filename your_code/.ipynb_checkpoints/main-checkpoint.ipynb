{
 "cells": [
  {
   "cell_type": "markdown",
   "metadata": {},
   "source": [
    "# Advanced Querying Mongo"
   ]
  },
  {
   "cell_type": "markdown",
   "metadata": {},
   "source": [
    "Importing libraries and setting up connection"
   ]
  },
  {
   "cell_type": "code",
   "execution_count": 2,
   "metadata": {},
   "outputs": [],
   "source": [
    "from pymongo import MongoClient\n",
    "cursor = MongoClient(\"mongodb://localhost:27017\")"
   ]
  },
  {
   "cell_type": "code",
   "execution_count": 23,
   "metadata": {},
   "outputs": [],
   "source": [
    "import pandas as pd"
   ]
  },
  {
   "cell_type": "code",
   "execution_count": 3,
   "metadata": {},
   "outputs": [
    {
     "data": {
      "text/plain": [
       "MongoClient(host=['localhost:27017'], document_class=dict, tz_aware=False, connect=True)"
      ]
     },
     "execution_count": 3,
     "metadata": {},
     "output_type": "execute_result"
    }
   ],
   "source": [
    "cursor"
   ]
  },
  {
   "cell_type": "code",
   "execution_count": 8,
   "metadata": {},
   "outputs": [],
   "source": [
    "db = cursor.companies"
   ]
  },
  {
   "cell_type": "code",
   "execution_count": 10,
   "metadata": {},
   "outputs": [
    {
     "data": {
      "text/plain": [
       "Collection(Database(MongoClient(host=['localhost:27017'], document_class=dict, tz_aware=False, connect=True), 'companies'), 'collection')"
      ]
     },
     "execution_count": 10,
     "metadata": {},
     "output_type": "execute_result"
    }
   ],
   "source": [
    "colec = db.collection\n",
    "colec"
   ]
  },
  {
   "cell_type": "markdown",
   "metadata": {},
   "source": [
    "### 1. All the companies whose name match 'Babelgum'. Retrieve only their `name` field."
   ]
  },
  {
   "cell_type": "code",
   "execution_count": 240,
   "metadata": {},
   "outputs": [
    {
     "data": {
      "text/plain": [
       "[{'name': 'Babelgum'}]"
      ]
     },
     "execution_count": 240,
     "metadata": {},
     "output_type": "execute_result"
    }
   ],
   "source": [
    "query = {'name': 'Babelgum'}\n",
    "select = {'name':True, '_id': False}\n",
    "result = colec.find(query,select)\n",
    "list(result)"
   ]
  },
  {
   "cell_type": "markdown",
   "metadata": {},
   "source": [
    "### 2. All the companies that have more than 5000 employees. Limit the search to 20 companies and sort them by **number of employees**."
   ]
  },
  {
   "cell_type": "code",
   "execution_count": 241,
   "metadata": {},
   "outputs": [
    {
     "data": {
      "text/plain": [
       "[{'name': 'Facebook'},\n",
       " {'name': 'eBay'},\n",
       " {'name': 'Cisco'},\n",
       " {'name': 'Yahoo!'},\n",
       " {'name': 'Google'},\n",
       " {'name': 'Intel'},\n",
       " {'name': 'Nintendo'},\n",
       " {'name': 'Adobe Systems'},\n",
       " {'name': 'Sony'},\n",
       " {'name': 'PayPal'},\n",
       " {'name': 'The Walt Disney Company'},\n",
       " {'name': 'AOL'},\n",
       " {'name': 'Webkinz'},\n",
       " {'name': 'Sun Microsystems'},\n",
       " {'name': 'Nokia'},\n",
       " {'name': 'Rakuten'},\n",
       " {'name': 'Microsoft'},\n",
       " {'name': 'Apple'},\n",
       " {'name': 'NetApp'},\n",
       " {'name': 'Motorola Solutions'}]"
      ]
     },
     "execution_count": 241,
     "metadata": {},
     "output_type": "execute_result"
    }
   ],
   "source": [
    "query = {'number_of_employees' : {'$gt': 5000}}\n",
    "select = {'name':True, '_id': False}\n",
    "result = colec.find(query,select).limit(20)\n",
    "list(result)"
   ]
  },
  {
   "cell_type": "markdown",
   "metadata": {},
   "source": [
    "### 3. All the companies founded between 2000 and 2005, both years included. Retrieve only the `name` and `founded_year` fields."
   ]
  },
  {
   "cell_type": "code",
   "execution_count": 242,
   "metadata": {},
   "outputs": [
    {
     "data": {
      "text/html": [
       "<div>\n",
       "<style scoped>\n",
       "    .dataframe tbody tr th:only-of-type {\n",
       "        vertical-align: middle;\n",
       "    }\n",
       "\n",
       "    .dataframe tbody tr th {\n",
       "        vertical-align: top;\n",
       "    }\n",
       "\n",
       "    .dataframe thead th {\n",
       "        text-align: right;\n",
       "    }\n",
       "</style>\n",
       "<table border=\"1\" class=\"dataframe\">\n",
       "  <thead>\n",
       "    <tr style=\"text-align: right;\">\n",
       "      <th></th>\n",
       "      <th>name</th>\n",
       "      <th>founded_year</th>\n",
       "    </tr>\n",
       "  </thead>\n",
       "  <tbody>\n",
       "    <tr>\n",
       "      <th>0</th>\n",
       "      <td>Wetpaint</td>\n",
       "      <td>2005</td>\n",
       "    </tr>\n",
       "    <tr>\n",
       "      <th>1</th>\n",
       "      <td>Zoho</td>\n",
       "      <td>2005</td>\n",
       "    </tr>\n",
       "    <tr>\n",
       "      <th>2</th>\n",
       "      <td>Digg</td>\n",
       "      <td>2004</td>\n",
       "    </tr>\n",
       "    <tr>\n",
       "      <th>3</th>\n",
       "      <td>Facebook</td>\n",
       "      <td>2004</td>\n",
       "    </tr>\n",
       "    <tr>\n",
       "      <th>4</th>\n",
       "      <td>Omnidrive</td>\n",
       "      <td>2005</td>\n",
       "    </tr>\n",
       "  </tbody>\n",
       "</table>\n",
       "</div>"
      ],
      "text/plain": [
       "        name  founded_year\n",
       "0   Wetpaint          2005\n",
       "1       Zoho          2005\n",
       "2       Digg          2004\n",
       "3   Facebook          2004\n",
       "4  Omnidrive          2005"
      ]
     },
     "execution_count": 242,
     "metadata": {},
     "output_type": "execute_result"
    }
   ],
   "source": [
    "query = {'$and':[{'founded_year' : {'$gte': 2000}},\n",
    "                {'founded_year' : {'$lte': 2005}}]}\n",
    "select = {'name':True, 'founded_year': True, '_id': False}\n",
    "result = colec.find(query,select)\n",
    "pd.DataFrame(list(result)[:5])"
   ]
  },
  {
   "cell_type": "markdown",
   "metadata": {},
   "source": [
    "### 4. All the companies that had a Valuation Amount of more than 100.000.000 and have been founded before 2010. Retrieve only the `name` and `ipo` fields."
   ]
  },
  {
   "cell_type": "code",
   "execution_count": 243,
   "metadata": {},
   "outputs": [
    {
     "data": {
      "text/plain": [
       "[{'name': 'Facebook'},\n",
       " {'name': 'Twitter'},\n",
       " {'name': 'Yelp'},\n",
       " {'name': 'LinkedIn'},\n",
       " {'name': 'Amazon'}]"
      ]
     },
     "execution_count": 243,
     "metadata": {},
     "output_type": "execute_result"
    }
   ],
   "source": [
    "query= {'ipo.valuation_amount':{'$gt':100000000}}\n",
    "select= {'name':True, '_id': False}\n",
    "result = colec.find(query,select)\n",
    "list(result)[:5]"
   ]
  },
  {
   "cell_type": "markdown",
   "metadata": {},
   "source": [
    "### 5. All the companies that have less than 1000 employees and have been founded before 2005. Order them by the number of employees and limit the search to 10 companies."
   ]
  },
  {
   "cell_type": "code",
   "execution_count": 244,
   "metadata": {},
   "outputs": [
    {
     "data": {
      "text/plain": [
       "[{'name': 'AdventNet'},\n",
       " {'name': 'Digg'},\n",
       " {'name': 'Fox Interactive Media'},\n",
       " {'name': 'Plaxo'},\n",
       " {'name': 'Technorati'}]"
      ]
     },
     "execution_count": 244,
     "metadata": {},
     "output_type": "execute_result"
    }
   ],
   "source": [
    "query = {'$and': [{'number_of_employees':{'$lt': 1000}},\n",
    "                  {'founded_year':{'$lt':2005}}]}\n",
    "select = {'name':True, '_id': False}\n",
    "result = colec.find(query,select)\n",
    "list(result)[:5]"
   ]
  },
  {
   "cell_type": "markdown",
   "metadata": {},
   "source": [
    "### 6. All the companies that don't include the `partners` field."
   ]
  },
  {
   "cell_type": "code",
   "execution_count": 245,
   "metadata": {},
   "outputs": [
    {
     "data": {
      "text/plain": [
       "[{'name': 'Wetpaint'},\n",
       " {'name': 'AdventNet'},\n",
       " {'name': 'Zoho'},\n",
       " {'name': 'Digg'},\n",
       " {'name': 'Facebook'}]"
      ]
     },
     "execution_count": 245,
     "metadata": {},
     "output_type": "execute_result"
    }
   ],
   "source": [
    "query = {'partners': {'$ne': None}}\n",
    "select = {'name':True, '_id': False}\n",
    "result = colec.find(query, select)\n",
    "list(result)[:5]"
   ]
  },
  {
   "cell_type": "markdown",
   "metadata": {},
   "source": [
    "### 7. All the companies that have a null type of value on the `category_code` field."
   ]
  },
  {
   "cell_type": "code",
   "execution_count": 247,
   "metadata": {},
   "outputs": [
    {
     "data": {
      "text/plain": [
       "[{'name': 'Collective'},\n",
       " {'name': 'Snimmer'},\n",
       " {'name': 'KoolIM'},\n",
       " {'name': 'Level9 Media'},\n",
       " {'name': 'VidKing'}]"
      ]
     },
     "execution_count": 247,
     "metadata": {},
     "output_type": "execute_result"
    }
   ],
   "source": [
    "query= {'category_code': {'$type': 10}}\n",
    "select= {'name':True, '_id': False}\n",
    "result = colec.find(query,select)\n",
    "list(result)[:5]"
   ]
  },
  {
   "cell_type": "markdown",
   "metadata": {},
   "source": [
    "### 8. All the companies that have at least 100 employees but less than 1000. Retrieve only the `name` and `number of employees` fields."
   ]
  },
  {
   "cell_type": "code",
   "execution_count": 248,
   "metadata": {},
   "outputs": [
    {
     "data": {
      "text/plain": [
       "[{'name': 'AdventNet', 'number_of_employees': 600},\n",
       " {'name': 'AddThis', 'number_of_employees': 120},\n",
       " {'name': 'OpenX', 'number_of_employees': 305},\n",
       " {'name': 'LifeLock', 'number_of_employees': 644},\n",
       " {'name': 'Jajah', 'number_of_employees': 110}]"
      ]
     },
     "execution_count": 248,
     "metadata": {},
     "output_type": "execute_result"
    }
   ],
   "source": [
    "query = {'$and':[{'number_of_employees': {'$gte':100}},\n",
    "                {'number_of_employees': {'$lt':1000}}]}\n",
    "\n",
    "select = {'name':True, '_id': False, 'number_of_employees':True }\n",
    "result = colec.find(query,select)\n",
    "list(result)[:5]"
   ]
  },
  {
   "cell_type": "markdown",
   "metadata": {},
   "source": [
    "### 9. Order all the companies by their IPO price in a descending order."
   ]
  },
  {
   "cell_type": "code",
   "execution_count": 249,
   "metadata": {},
   "outputs": [
    {
     "data": {
      "text/plain": [
       "[{'name': 'GREE'},\n",
       " {'name': 'Facebook'},\n",
       " {'name': 'Amazon'},\n",
       " {'name': 'Twitter'},\n",
       " {'name': 'Groupon'}]"
      ]
     },
     "execution_count": 249,
     "metadata": {},
     "output_type": "execute_result"
    }
   ],
   "source": [
    "query= {'ipo.valuation_amount':{'$ne': None}}\n",
    "select= {'name':True, '_id': False}\n",
    "result = colec.find(query,select).sort('ipo.valuation_amount',-1)\n",
    "list(result)[:5]"
   ]
  },
  {
   "cell_type": "markdown",
   "metadata": {},
   "source": [
    "### 10. Retrieve the 10 companies with more employees, order by the `number of employees`"
   ]
  },
  {
   "cell_type": "code",
   "execution_count": 252,
   "metadata": {},
   "outputs": [
    {
     "data": {
      "text/plain": [
       "[{'name': 'Siemens', 'number_of_employees': 405000},\n",
       " {'name': 'IBM', 'number_of_employees': 388000},\n",
       " {'name': 'Toyota', 'number_of_employees': 320000},\n",
       " {'name': 'PayPal', 'number_of_employees': 300000},\n",
       " {'name': 'Nippon Telegraph and Telephone Corporation',\n",
       "  'number_of_employees': 227000},\n",
       " {'name': 'Samsung Electronics', 'number_of_employees': 221726},\n",
       " {'name': 'Accenture', 'number_of_employees': 205000},\n",
       " {'name': 'Tata Consultancy Services', 'number_of_employees': 200300},\n",
       " {'name': 'Flextronics International', 'number_of_employees': 200000},\n",
       " {'name': 'Safeway', 'number_of_employees': 186000}]"
      ]
     },
     "execution_count": 252,
     "metadata": {},
     "output_type": "execute_result"
    }
   ],
   "source": [
    "query = {'number_of_employees': {'$exists' : True}}\n",
    "select= {'_id':False, 'name': True, 'number_of_employees':True}\n",
    "result=colec.find(query,select).sort('number_of_employees',-1).limit(10)\n",
    "list(result)"
   ]
  },
  {
   "cell_type": "markdown",
   "metadata": {},
   "source": [
    "### 11. All the companies founded on the second semester of the year. Limit your search to 1000 companies."
   ]
  },
  {
   "cell_type": "code",
   "execution_count": 253,
   "metadata": {},
   "outputs": [
    {
     "data": {
      "text/plain": [
       "[{'name': 'Wetpaint', 'founded_month': 10},\n",
       " {'name': 'Zoho', 'founded_month': 9},\n",
       " {'name': 'Digg', 'founded_month': 10},\n",
       " {'name': 'Omnidrive', 'founded_month': 11},\n",
       " {'name': 'Postini', 'founded_month': 6}]"
      ]
     },
     "execution_count": 253,
     "metadata": {},
     "output_type": "execute_result"
    }
   ],
   "source": [
    "query = {'$and':[{'founded_month':{'$gte':6}},\n",
    "                  {'founded_month':{'$lte':12}}]}\n",
    "select = {'_id':False, 'name': True, 'founded_month': True}\n",
    "result = colec.find(query, select).limit(1000)\n",
    "list(result)[:5]"
   ]
  },
  {
   "cell_type": "markdown",
   "metadata": {},
   "source": [
    "### 12. All the companies founded before 2000 that have an acquisition amount of more than 10.000.00"
   ]
  },
  {
   "cell_type": "code",
   "execution_count": 254,
   "metadata": {
    "scrolled": false
   },
   "outputs": [
    {
     "data": {
      "text/plain": [
       "[{'name': 'Postini',\n",
       "  'founded_year': 1999,\n",
       "  'acquisition': {'price_amount': 625000000}},\n",
       " {'name': 'SideStep',\n",
       "  'founded_year': 1999,\n",
       "  'acquisition': {'price_amount': 180000000}},\n",
       " {'name': 'Recipezaar',\n",
       "  'founded_year': 1999,\n",
       "  'acquisition': {'price_amount': 25000000}},\n",
       " {'name': 'PayPal',\n",
       "  'founded_year': 1998,\n",
       "  'acquisition': {'price_amount': 1500000000}},\n",
       " {'name': 'Snapfish',\n",
       "  'founded_year': 1999,\n",
       "  'acquisition': {'price_amount': 300000000}}]"
      ]
     },
     "execution_count": 254,
     "metadata": {},
     "output_type": "execute_result"
    }
   ],
   "source": [
    "query = {'$and':[{'founded_year':{'$lt':2000}},\n",
    "                {'acquisition.price_amount':{'$gt':10000000}}]}\n",
    "select = {'_id':False,'name':True,'founded_year':True, 'acquisition.price_amount':True}\n",
    "result = colec.find(query,select)\n",
    "list(result)[:5]"
   ]
  },
  {
   "cell_type": "markdown",
   "metadata": {},
   "source": [
    "### 13. All the companies that have been acquired after 2010, order by the acquisition amount, and retrieve only their `name` and `acquisition` field."
   ]
  },
  {
   "cell_type": "code",
   "execution_count": 255,
   "metadata": {
    "scrolled": true
   },
   "outputs": [
    {
     "data": {
      "text/plain": [
       "[{'name': 'T-Mobile',\n",
       "  'acquisition': {'price_amount': 39000000000.0,\n",
       "   'price_currency_code': 'USD',\n",
       "   'term_code': None,\n",
       "   'source_url': 'http://techcrunch.com/2011/03/20/in-the-race-for-more-spectrum-att-is-acquiring-t-mobile-for-39-billion/',\n",
       "   'source_description': 'In The Race For More Spectrum, AT&T Is Acquiring T-Mobile For $39 Billion',\n",
       "   'acquired_year': 2011,\n",
       "   'acquired_month': 3,\n",
       "   'acquired_day': 20,\n",
       "   'acquiring_company': {'name': 'AT&T', 'permalink': 'at-t'}}},\n",
       " {'name': 'Goodrich Corporation',\n",
       "  'acquisition': {'price_amount': 18400000000.0,\n",
       "   'price_currency_code': 'USD',\n",
       "   'term_code': None,\n",
       "   'source_url': 'http://www.masshightech.com/stories/2011/09/19/daily37-UTC-shells-out-184-billion-for-Goodrich.html',\n",
       "   'source_description': 'UTC shells out $18.4 billion for Goodrich',\n",
       "   'acquired_year': 2011,\n",
       "   'acquired_month': 9,\n",
       "   'acquired_day': 22,\n",
       "   'acquiring_company': {'name': 'United Technologies',\n",
       "    'permalink': 'united-technologies'}}},\n",
       " {'name': 'LSI',\n",
       "  'acquisition': {'price_amount': 6600000000.0,\n",
       "   'price_currency_code': 'USD',\n",
       "   'term_code': 'cash',\n",
       "   'source_url': 'http://dealbook.nytimes.com/2013/12/16/avago-to-buy-lsi-for-6-6-billion/?_r=0',\n",
       "   'source_description': 'Avago to Buy LSI for $6.6 Billion',\n",
       "   'acquired_year': 2013,\n",
       "   'acquired_month': 12,\n",
       "   'acquired_day': 16,\n",
       "   'acquiring_company': {'name': 'Avago Technologies',\n",
       "    'permalink': 'avago-technologies'}}},\n",
       " {'name': 'National Semiconductor',\n",
       "  'acquisition': {'price_amount': 6500000000.0,\n",
       "   'price_currency_code': 'USD',\n",
       "   'term_code': 'cash',\n",
       "   'source_url': 'http://www.national.com/news/item/0,1735,1522,00.html',\n",
       "   'source_description': 'TI to acquire National Semiconductor Complementary portfolios are foundation for growth',\n",
       "   'acquired_year': 2011,\n",
       "   'acquired_month': 4,\n",
       "   'acquired_day': 4,\n",
       "   'acquiring_company': {'name': 'Texas Instruments',\n",
       "    'permalink': 'texas-instruments'}}},\n",
       " {'name': 'Ariba',\n",
       "  'acquisition': {'price_amount': 4300000000.0,\n",
       "   'price_currency_code': 'USD',\n",
       "   'term_code': None,\n",
       "   'source_url': 'http://techcrunch.com/2012/05/22/sap-to-acquire-ariba-for-4-3-billion/',\n",
       "   'source_description': 'SAP To Acquire Ariba For $4.3 Billion',\n",
       "   'acquired_year': 2012,\n",
       "   'acquired_month': 5,\n",
       "   'acquired_day': 22,\n",
       "   'acquiring_company': {'name': 'SAP', 'permalink': 'sap'}}}]"
      ]
     },
     "execution_count": 255,
     "metadata": {},
     "output_type": "execute_result"
    }
   ],
   "source": [
    "query = {'acquisition.acquired_year':{'$gt': 2010}}\n",
    "select = {'_id':False,'name':True,'acquisition':True}\n",
    "result = colec.find(query,select).sort('acquisition.price_amount',-1)\n",
    "list(result)[:5]"
   ]
  },
  {
   "cell_type": "markdown",
   "metadata": {},
   "source": [
    "### 14. Order the companies by their `founded year`, retrieving only their `name` and `founded year`."
   ]
  },
  {
   "cell_type": "code",
   "execution_count": 256,
   "metadata": {},
   "outputs": [
    {
     "data": {
      "text/plain": [
       "[{'name': 'Alstrasoft', 'founded_year': 1800},\n",
       " {'name': 'SmallWorlds', 'founded_year': 1800},\n",
       " {'name': 'US Army', 'founded_year': 1800},\n",
       " {'name': 'DuPont', 'founded_year': 1802},\n",
       " {'name': 'McKesson', 'founded_year': 1833}]"
      ]
     },
     "execution_count": 256,
     "metadata": {},
     "output_type": "execute_result"
    }
   ],
   "source": [
    "query = {'founded_year':{'$ne':None}}\n",
    "select = {'_id':False,'name':True,'founded_year':True}\n",
    "result = colec.find(query, select).sort('founded_year',1)\n",
    "list(result)[:5]"
   ]
  },
  {
   "cell_type": "markdown",
   "metadata": {},
   "source": [
    "### 15. All the companies that have been founded on the first seven days of the month, including the seventh. Sort them by their `acquisition price` in a descending order. Limit the search to 10 documents."
   ]
  },
  {
   "cell_type": "code",
   "execution_count": 257,
   "metadata": {},
   "outputs": [
    {
     "data": {
      "text/plain": [
       "[{'name': 'Netscape', 'founded_day': 4},\n",
       " {'name': 'PayPal', 'founded_day': 1},\n",
       " {'name': 'Zappos', 'founded_day': 1},\n",
       " {'name': 'Alibaba', 'founded_day': 1},\n",
       " {'name': 'Postini', 'founded_day': 2},\n",
       " {'name': 'Danger', 'founded_day': 1},\n",
       " {'name': 'Clearwell Systems', 'founded_day': 6},\n",
       " {'name': 'PrimeSense', 'founded_day': 1},\n",
       " {'name': 'Amobee', 'founded_day': 1},\n",
       " {'name': 'Vitrue', 'founded_day': 1}]"
      ]
     },
     "execution_count": 257,
     "metadata": {},
     "output_type": "execute_result"
    }
   ],
   "source": [
    "query = {'founded_day':{'$lte':7}}\n",
    "select = {'_id':False, 'name':True, 'founded_day':True}\n",
    "result = colec.find(query, select).sort('acquisition.price_amount',-1).limit(10)\n",
    "list(result)"
   ]
  },
  {
   "cell_type": "markdown",
   "metadata": {},
   "source": [
    "### 16. All the companies on the 'web' `category` that have more than 4000 employees. Sort them by the amount of employees in ascending order."
   ]
  },
  {
   "cell_type": "code",
   "execution_count": 259,
   "metadata": {},
   "outputs": [
    {
     "data": {
      "text/plain": [
       "[{'name': 'Postini', 'category_code': 'web'},\n",
       " {'name': 'StumbleUpon', 'category_code': 'web'},\n",
       " {'name': 'Gizmoz', 'category_code': 'web'},\n",
       " {'name': 'Viacom', 'category_code': 'web'},\n",
       " {'name': 'Gannett', 'category_code': 'web'}]"
      ]
     },
     "execution_count": 259,
     "metadata": {},
     "output_type": "execute_result"
    }
   ],
   "source": [
    "query = {'category_code':'web'}\n",
    "select = {'_id':False,'name':True, 'category_code':True}\n",
    "result = colec.find(query, select).sort('number_of_employees',1)\n",
    "list(result)[:5]"
   ]
  },
  {
   "cell_type": "markdown",
   "metadata": {},
   "source": [
    "### 17. All the companies whose acquisition amount is more than 10.000.000, and currency is 'EUR'."
   ]
  },
  {
   "cell_type": "code",
   "execution_count": 189,
   "metadata": {},
   "outputs": [
    {
     "data": {
      "text/plain": [
       "[{'name': 'ZYB',\n",
       "  'acquisition': {'price_amount': 31500000, 'price_currency_code': 'EUR'}},\n",
       " {'name': 'Apertio',\n",
       "  'acquisition': {'price_amount': 140000000, 'price_currency_code': 'EUR'}},\n",
       " {'name': 'Greenfield Online',\n",
       "  'acquisition': {'price_amount': 40000000, 'price_currency_code': 'EUR'}},\n",
       " {'name': 'Webedia',\n",
       "  'acquisition': {'price_amount': 70000000, 'price_currency_code': 'EUR'}},\n",
       " {'name': 'Wayfinder',\n",
       "  'acquisition': {'price_amount': 24000000, 'price_currency_code': 'EUR'}},\n",
       " {'name': 'Tuenti Technologies',\n",
       "  'acquisition': {'price_amount': 70000000, 'price_currency_code': 'EUR'}},\n",
       " {'name': 'BioMed Central',\n",
       "  'acquisition': {'price_amount': 43400000, 'price_currency_code': 'EUR'}}]"
      ]
     },
     "execution_count": 189,
     "metadata": {},
     "output_type": "execute_result"
    }
   ],
   "source": [
    "query = {'$and':[{'acquisition.price_amount':{'$gt':10000000}},\n",
    "                 {'acquisition.price_currency_code':'EUR'}]}\n",
    "select = {'_id':False,'name': True,'acquisition.price_amount':True, 'acquisition.price_currency_code': True}\n",
    "result = colec.find(query, select)\n",
    "list(result)"
   ]
  },
  {
   "cell_type": "markdown",
   "metadata": {},
   "source": [
    "### 18. All the companies that have been acquired on the first trimester of the year. Limit the search to 10 companies, and retrieve only their `name` and `acquisition` fields."
   ]
  },
  {
   "cell_type": "code",
   "execution_count": 192,
   "metadata": {},
   "outputs": [
    {
     "data": {
      "text/plain": [
       "[{'name': 'Flektor',\n",
       "  'acquisition': {'price_amount': 20000000,\n",
       "   'price_currency_code': 'USD',\n",
       "   'term_code': None,\n",
       "   'source_url': 'http://venturebeat.com/2007/05/30/fox-interactive-confirms-purchase-of-photobucket-and-flektor/',\n",
       "   'source_description': 'Fox Interactive confirms purchase of Photobucket and Flektor',\n",
       "   'acquired_year': 2007,\n",
       "   'acquired_month': 5,\n",
       "   'acquired_day': 30,\n",
       "   'acquiring_company': {'name': 'Fox Interactive Media',\n",
       "    'permalink': 'fox-interactive-media'}}},\n",
       " {'name': 'StumbleUpon',\n",
       "  'acquisition': {'price_amount': 29000000,\n",
       "   'price_currency_code': 'USD',\n",
       "   'term_code': None,\n",
       "   'source_url': 'http://techcrunch.com/2009/04/13/ebay-unacquires-stumbleupon/',\n",
       "   'source_description': \"StumbleUpon Beats Skype In Escaping EBay's Clutches\",\n",
       "   'acquired_year': 2009,\n",
       "   'acquired_month': 4,\n",
       "   'acquired_day': None,\n",
       "   'acquiring_company': {'name': 'StumbleUpon', 'permalink': 'stumbleupon'}}},\n",
       " {'name': 'Plaxo',\n",
       "  'acquisition': {'price_amount': 150000000,\n",
       "   'price_currency_code': 'USD',\n",
       "   'term_code': None,\n",
       "   'source_url': 'http://www.techcrunch.com/2008/05/14/confirmed-comcast-bought-plaxo-deal-closed-today/',\n",
       "   'source_description': 'Confirmed: Comcast Bought Plaxo, Deal Closed Today',\n",
       "   'acquired_year': 2008,\n",
       "   'acquired_month': 5,\n",
       "   'acquired_day': 14,\n",
       "   'acquiring_company': {'name': 'Comcast', 'permalink': 'comcast'}}},\n",
       " {'name': 'Kyte',\n",
       "  'acquisition': {'price_amount': None,\n",
       "   'price_currency_code': 'USD',\n",
       "   'term_code': None,\n",
       "   'source_url': 'http://techcrunch.com/2011/01/31/exclusive-kit-digital-acquires-kickapps-kewego-and-kyte-for-77-2-million/',\n",
       "   'source_description': 'KIT digital Acquires KickApps, Kewego AND Kyte For $77.2 Million',\n",
       "   'acquired_year': 2011,\n",
       "   'acquired_month': 1,\n",
       "   'acquired_day': 31,\n",
       "   'acquiring_company': {'name': 'KIT digital', 'permalink': 'kit-digital'}}},\n",
       " {'name': 'Veoh',\n",
       "  'acquisition': {'price_amount': None,\n",
       "   'price_currency_code': 'USD',\n",
       "   'term_code': None,\n",
       "   'source_url': 'http://techcrunch.com/2010/04/07/qlipso-veoh/',\n",
       "   'source_description': \"Qlipso's CEO Explains Why He Bought Veoh\",\n",
       "   'acquired_year': 2010,\n",
       "   'acquired_month': 4,\n",
       "   'acquired_day': 7,\n",
       "   'acquiring_company': {'name': 'Qlipso', 'permalink': 'qlipso'}}},\n",
       " {'name': 'Jingle Networks',\n",
       "  'acquisition': {'price_amount': 62500000,\n",
       "   'price_currency_code': 'USD',\n",
       "   'term_code': 'cash_and_stock',\n",
       "   'source_url': 'http://www.masshightech.com/stories/2011/04/11/daily11-Jingle-Networks-bought-for-up-to-625M.html',\n",
       "   'source_description': 'Jingle Networks bought for up to $62.5M',\n",
       "   'acquired_year': 2011,\n",
       "   'acquired_month': 4,\n",
       "   'acquired_day': 11,\n",
       "   'acquiring_company': {'name': 'Marchex', 'permalink': 'marchex'}}},\n",
       " {'name': 'NetRatings',\n",
       "  'acquisition': {'price_amount': 327000000,\n",
       "   'price_currency_code': 'USD',\n",
       "   'term_code': 'cash',\n",
       "   'source_url': 'http://login.vnuemedia.com/hr/login/login_subscribe.jsp?id=0oqDem1gYIfIclz9i2%2Ffqj5NxCp2AC5DPbVnyT2da8GyV2mXjasabE128n69OrmcAh52%2FGE3pSG%2F%0AEKRYD9vh9EhrJrxukmUzh532fSMTZXL42gwPB80UWVtF1NwJ5UZSM%2BCkLU1mpYBoHFgiH%2Fi0f6Ax%0A9yMIVxt47t%2BHamhEQ0nkOEK24L',\n",
       "   'source_description': 'Nielsen buys rest of NetRatings',\n",
       "   'acquired_year': 2007,\n",
       "   'acquired_month': 2,\n",
       "   'acquired_day': None,\n",
       "   'acquiring_company': {'name': 'Nielsen', 'permalink': 'nielsen'}}},\n",
       " {'name': 'blogTV',\n",
       "  'acquisition': {'price_amount': None,\n",
       "   'price_currency_code': 'USD',\n",
       "   'term_code': None,\n",
       "   'source_url': 'http://techcrunch.com/2013/03/13/younow-buys-blogtv/',\n",
       "   'source_description': 'Live Social Video Network YouNow Acquires Streaming Service BlogTV',\n",
       "   'acquired_year': 2013,\n",
       "   'acquired_month': 3,\n",
       "   'acquired_day': 13,\n",
       "   'acquiring_company': {'name': 'YouNow', 'permalink': 'younow'}}},\n",
       " {'name': 'Livestream',\n",
       "  'acquisition': {'price_amount': None,\n",
       "   'price_currency_code': 'USD',\n",
       "   'term_code': 'cash_and_stock',\n",
       "   'source_url': '',\n",
       "   'source_description': 'company',\n",
       "   'acquired_year': 2008,\n",
       "   'acquired_month': 1,\n",
       "   'acquired_day': 1,\n",
       "   'acquiring_company': {'name': 'Adviqo', 'permalink': 'adviqo'}}},\n",
       " {'name': 'delicious',\n",
       "  'acquisition': {'price_amount': None,\n",
       "   'price_currency_code': 'USD',\n",
       "   'term_code': None,\n",
       "   'source_url': 'http://techcrunch.com/2011/04/27/yahoo-sells-delicious-to-youtube-founders/',\n",
       "   'source_description': 'Yahoo Sells Delicious To YouTube Founders',\n",
       "   'acquired_year': 2011,\n",
       "   'acquired_month': 4,\n",
       "   'acquired_day': 27,\n",
       "   'acquiring_company': {'name': 'AVOS Systems', 'permalink': 'avos'}}}]"
      ]
     },
     "execution_count": 192,
     "metadata": {},
     "output_type": "execute_result"
    }
   ],
   "source": [
    "query = {'$and':[{'acquisition.acquired_month':{'$gte':1}},\n",
    "                  {'acquisition.acquired_month':{'$lte':5}}]}\n",
    "select = {'_id':False, 'name': True, 'acquisition': True}\n",
    "result = colec.find(query, select).limit(10)\n",
    "list(result)"
   ]
  },
  {
   "cell_type": "markdown",
   "metadata": {},
   "source": [
    "# Bonus\n",
    "### 19. All the companies that have been founded between 2000 and 2010, but have not been acquired before 2011."
   ]
  },
  {
   "cell_type": "code",
   "execution_count": 260,
   "metadata": {},
   "outputs": [
    {
     "data": {
      "text/plain": [
       "[{'name': 'Wetpaint'},\n",
       " {'name': 'Digg'},\n",
       " {'name': 'Geni'},\n",
       " {'name': 'Kyte'},\n",
       " {'name': 'Jingle Networks'}]"
      ]
     },
     "execution_count": 260,
     "metadata": {},
     "output_type": "execute_result"
    }
   ],
   "source": [
    "query= {'$and': [{'founded_year':{'$gte':2000}},\n",
    "                {'founded_year':{'$lte':2010}}],\n",
    "       'acquisition.acquired_year':{'$gte':2011}}\n",
    "select= {'_id':False,'name':True}\n",
    "result= colec.find(query, select)\n",
    "list(result)[:5]"
   ]
  },
  {
   "cell_type": "markdown",
   "metadata": {},
   "source": [
    "### 20. All the companies that have been 'deadpooled' after the third year."
   ]
  },
  {
   "cell_type": "code",
   "execution_count": null,
   "metadata": {},
   "outputs": [],
   "source": []
  }
 ],
 "metadata": {
  "kernelspec": {
   "display_name": "Python 3 (ipykernel)",
   "language": "python",
   "name": "python3"
  },
  "language_info": {
   "codemirror_mode": {
    "name": "ipython",
    "version": 3
   },
   "file_extension": ".py",
   "mimetype": "text/x-python",
   "name": "python",
   "nbconvert_exporter": "python",
   "pygments_lexer": "ipython3",
   "version": "3.11.3"
  }
 },
 "nbformat": 4,
 "nbformat_minor": 2
}
