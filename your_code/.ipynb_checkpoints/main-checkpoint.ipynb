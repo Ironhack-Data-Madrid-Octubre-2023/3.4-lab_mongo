{
 "cells": [
  {
   "cell_type": "markdown",
   "metadata": {},
   "source": [
    "# Advanced Querying Mongo"
   ]
  },
  {
   "cell_type": "markdown",
   "metadata": {},
   "source": [
    "Importing libraries and setting up connection"
   ]
  },
  {
   "cell_type": "code",
   "execution_count": 2,
   "metadata": {},
   "outputs": [],
   "source": [
    "from pymongo import MongoClient\n",
    "client = MongoClient()"
   ]
  },
  {
   "cell_type": "code",
   "execution_count": null,
   "metadata": {},
   "outputs": [],
   "source": [
    "db=client.companies\n",
    "\n",
    "companies = db.companies"
   ]
  },
  {
   "cell_type": "markdown",
   "metadata": {},
   "source": [
    "### 1. All the companies whose name match 'Babelgum'. Retrieve only their `name` field."
   ]
  },
  {
   "cell_type": "code",
   "execution_count": 23,
   "metadata": {},
   "outputs": [
    {
     "data": {
      "text/plain": [
       "[{'name': 'Babelgum'}]"
      ]
     },
     "execution_count": 23,
     "metadata": {},
     "output_type": "execute_result"
    }
   ],
   "source": [
    "# Your Code\n",
    "\n",
    "query={'name': 'Babelgum'}\n",
    "\n",
    "select = {'_id' : 0, 'name': 1}\n",
    "\n",
    "res = list(companies.find(query, select))\n",
    "\n",
    "res"
   ]
  },
  {
   "cell_type": "markdown",
   "metadata": {},
   "source": [
    "### 2. All the companies that have more than 5000 employees. Limit the search to 20 companies and sort them by **number of employees**."
   ]
  },
  {
   "cell_type": "code",
   "execution_count": 67,
   "metadata": {},
   "outputs": [
    {
     "data": {
      "text/plain": [
       "[{'name': 'Siemens', 'number_of_employees': 405000},\n",
       " {'name': 'IBM', 'number_of_employees': 388000},\n",
       " {'name': 'Toyota', 'number_of_employees': 320000},\n",
       " {'name': 'PayPal', 'number_of_employees': 300000},\n",
       " {'name': 'Nippon Telegraph and Telephone Corporation',\n",
       "  'number_of_employees': 227000},\n",
       " {'name': 'Samsung Electronics', 'number_of_employees': 221726},\n",
       " {'name': 'Accenture', 'number_of_employees': 205000},\n",
       " {'name': 'Tata Consultancy Services', 'number_of_employees': 200300},\n",
       " {'name': 'Flextronics International', 'number_of_employees': 200000},\n",
       " {'name': 'Safeway', 'number_of_employees': 186000}]"
      ]
     },
     "execution_count": 67,
     "metadata": {},
     "output_type": "execute_result"
    }
   ],
   "source": [
    "# Your Code\n",
    "\n",
    "query={'number_of_employees': {'$gt': 50000}}\n",
    "\n",
    "select = {'_id' : 0, 'name': 1, 'number_of_employees': 1}\n",
    "\n",
    "res = list(companies.find(query, select).limit(20).sort('number_of_employees', -1))\n",
    "\n",
    "res[:10]"
   ]
  },
  {
   "cell_type": "markdown",
   "metadata": {},
   "source": [
    "### 3. All the companies founded between 2000 and 2005, both years included. Retrieve only the `name` and `founded_year` fields."
   ]
  },
  {
   "cell_type": "code",
   "execution_count": 66,
   "metadata": {},
   "outputs": [
    {
     "data": {
      "text/plain": [
       "[{'name': 'Digg', 'founded_year': 2004},\n",
       " {'name': 'Facebook', 'founded_year': 2004},\n",
       " {'name': 'StumbleUpon', 'founded_year': 2002},\n",
       " {'name': 'Gizmoz', 'founded_year': 2003},\n",
       " {'name': 'Plaxo', 'founded_year': 2002},\n",
       " {'name': 'Technorati', 'founded_year': 2002},\n",
       " {'name': 'AddThis', 'founded_year': 2004},\n",
       " {'name': 'Veoh', 'founded_year': 2004},\n",
       " {'name': 'Meetup', 'founded_year': 2002},\n",
       " {'name': 'SmugMug', 'founded_year': 2002}]"
      ]
     },
     "execution_count": 66,
     "metadata": {},
     "output_type": "execute_result"
    }
   ],
   "source": [
    "# Your Code\n",
    "query={'$and': [{'founded_year': {'$gt': 2000}},\n",
    "       {'founded_year': {'$lt': 2005}}]}\n",
    "\n",
    "select = {'_id' : 0, 'name': 1, 'founded_year': 1}\n",
    "\n",
    "res = list(companies.find(query, select))\n",
    "\n",
    "res[:10]"
   ]
  },
  {
   "cell_type": "markdown",
   "metadata": {},
   "source": [
    "### 4. All the companies that had a Valuation Amount of more than 100.000.000 and have been founded before 2010. Retrieve only the `name` and `ipo` fields."
   ]
  },
  {
   "cell_type": "code",
   "execution_count": 68,
   "metadata": {},
   "outputs": [
    {
     "data": {
      "text/plain": [
       "[{'name': 'Facebook',\n",
       "  'ipo': {'valuation_amount': 104000000000.0,\n",
       "   'valuation_currency_code': 'USD',\n",
       "   'pub_year': 2012,\n",
       "   'pub_month': 5,\n",
       "   'pub_day': 18,\n",
       "   'stock_symbol': 'NASDAQ:FB'}},\n",
       " {'name': 'Twitter',\n",
       "  'ipo': {'valuation_amount': 18100000000.0,\n",
       "   'valuation_currency_code': 'USD',\n",
       "   'pub_year': 2013,\n",
       "   'pub_month': 11,\n",
       "   'pub_day': 7,\n",
       "   'stock_symbol': 'NYSE:TWTR'}},\n",
       " {'name': 'Yelp',\n",
       "  'ipo': {'valuation_amount': 1300000000,\n",
       "   'valuation_currency_code': 'USD',\n",
       "   'pub_year': 2012,\n",
       "   'pub_month': 3,\n",
       "   'pub_day': 2,\n",
       "   'stock_symbol': 'NYSE:YELP'}}]"
      ]
     },
     "execution_count": 68,
     "metadata": {},
     "output_type": "execute_result"
    }
   ],
   "source": [
    "# Your Code\n",
    "query={'$and': [{'ipo.valuation_amount': {'$gt': 100000000}},\n",
    "       {'founded_year': {'$lt': 2010}}]}\n",
    "\n",
    "       \n",
    "\n",
    "select = {'_id' : 0, 'name': 1, 'ipo': 1}\n",
    "\n",
    "res = list(companies.find(query, select))\n",
    "\n",
    "res[:3]"
   ]
  },
  {
   "cell_type": "markdown",
   "metadata": {},
   "source": [
    "### 5. All the companies that have less than 1000 employees and have been founded before 2005. Order them by the number of employees and limit the search to 10 companies."
   ]
  },
  {
   "cell_type": "code",
   "execution_count": 63,
   "metadata": {},
   "outputs": [
    {
     "data": {
      "text/plain": [
       "[{'name': 'Infinera Corporation', 'founded_year': 2000},\n",
       " {'name': 'NorthPoint Communications Group', 'founded_year': 1997},\n",
       " {'name': '888 Holdings', 'founded_year': 1997},\n",
       " {'name': 'Forrester Research', 'founded_year': 1983},\n",
       " {'name': 'SonicWALL', 'founded_year': 1991},\n",
       " {'name': 'Webmetrics', 'founded_year': 1999},\n",
       " {'name': 'Cornerstone OnDemand', 'founded_year': 1999},\n",
       " {'name': 'Mozilla', 'founded_year': 1998},\n",
       " {'name': 'Buongiorno', 'founded_year': 1999},\n",
       " {'name': 'Yelp', 'founded_year': 2004}]"
      ]
     },
     "execution_count": 63,
     "metadata": {},
     "output_type": "execute_result"
    }
   ],
   "source": [
    "# Your Code\n",
    "query={'$and': [{'founded_year': {'$lt': 2005}},\n",
    "       {'number_of_employees': {'$lt': 1000}}]}\n",
    "\n",
    "select = {'_id' : 0, 'name': 1, 'founded_year': 1}\n",
    "\n",
    "res = list(companies.find(query, select).sort('number_of_employees', -1).limit(10))\n",
    "\n",
    "res[:10]"
   ]
  },
  {
   "cell_type": "markdown",
   "metadata": {},
   "source": [
    "### 6. All the companies that don't include the `partners` field."
   ]
  },
  {
   "cell_type": "code",
   "execution_count": 62,
   "metadata": {},
   "outputs": [
    {
     "data": {
      "text/plain": [
       "[]"
      ]
     },
     "execution_count": 62,
     "metadata": {},
     "output_type": "execute_result"
    }
   ],
   "source": [
    "# Your Code\n",
    "query={'partners': False}\n",
    "\n",
    "select = {'_id' : 0, 'name': 1, 'founded_year': 1}\n",
    "\n",
    "res = list(companies.find(query, select))\n",
    "\n",
    "res[:10]"
   ]
  },
  {
   "cell_type": "markdown",
   "metadata": {},
   "source": [
    "### 7. All the companies that have a null type of value on the `category_code` field."
   ]
  },
  {
   "cell_type": "code",
   "execution_count": 32,
   "metadata": {},
   "outputs": [
    {
     "data": {
      "text/plain": [
       "[{'name': 'Collective', 'founded_year': None},\n",
       " {'name': 'Snimmer', 'founded_year': None},\n",
       " {'name': 'KoolIM', 'founded_year': None},\n",
       " {'name': 'Level9 Media', 'founded_year': None},\n",
       " {'name': 'VidKing', 'founded_year': None},\n",
       " {'name': 'Drigg', 'founded_year': None},\n",
       " {'name': 'SpaceTime', 'founded_year': None},\n",
       " {'name': 'Touch Clarity', 'founded_year': None},\n",
       " {'name': 'MMDAYS', 'founded_year': None},\n",
       " {'name': 'Inside Group', 'founded_year': None}]"
      ]
     },
     "execution_count": 32,
     "metadata": {},
     "output_type": "execute_result"
    }
   ],
   "source": [
    "# Your Code\n",
    "query={'category_code': None}\n",
    "\n",
    "select = {'_id' : 0, 'name': 1, 'founded_year': 1}\n",
    "\n",
    "res = list(companies.find(query, select))\n",
    "\n",
    "res[:10]"
   ]
  },
  {
   "cell_type": "markdown",
   "metadata": {},
   "source": [
    "### 8. All the companies that have at least 100 employees but less than 1000. Retrieve only the `name` and `number of employees` fields."
   ]
  },
  {
   "cell_type": "code",
   "execution_count": 37,
   "metadata": {},
   "outputs": [
    {
     "data": {
      "text/plain": [
       "[{'name': 'AdventNet', 'number_of_employees': 600},\n",
       " {'name': 'AddThis', 'number_of_employees': 120},\n",
       " {'name': 'OpenX', 'number_of_employees': 305},\n",
       " {'name': 'LifeLock', 'number_of_employees': 644},\n",
       " {'name': 'Jajah', 'number_of_employees': 110},\n",
       " {'name': 'Livestream', 'number_of_employees': 120},\n",
       " {'name': 'Ustream', 'number_of_employees': 250},\n",
       " {'name': 'iContact', 'number_of_employees': 300},\n",
       " {'name': 'Yelp', 'number_of_employees': 800},\n",
       " {'name': 'Dailymotion', 'number_of_employees': 120}]"
      ]
     },
     "execution_count": 37,
     "metadata": {},
     "output_type": "execute_result"
    }
   ],
   "source": [
    "# Your Code\n",
    "query={'$and': [\n",
    "    {'number_of_employees': {'$gte': 100}},\n",
    "    {'number_of_employees': {'$lt': 1000}}\n",
    "    ]}\n",
    "\n",
    "select = {'_id' : 0, 'name': 1, 'number_of_employees': 1}\n",
    "\n",
    "res = list(companies.find(query, select))\n",
    "\n",
    "res[:10]"
   ]
  },
  {
   "cell_type": "markdown",
   "metadata": {},
   "source": [
    "### 9. Order all the companies by their IPO price in a descending order."
   ]
  },
  {
   "cell_type": "code",
   "execution_count": 48,
   "metadata": {},
   "outputs": [
    {
     "data": {
      "text/plain": [
       "[{'name': 'GREE', 'ipo': {'valuation_amount': 108960000000.0}},\n",
       " {'name': 'Facebook', 'ipo': {'valuation_amount': 104000000000.0}},\n",
       " {'name': 'Amazon', 'ipo': {'valuation_amount': 100000000000.0}},\n",
       " {'name': 'Twitter', 'ipo': {'valuation_amount': 18100000000.0}},\n",
       " {'name': 'Groupon', 'ipo': {'valuation_amount': 12800000000.0}},\n",
       " {'name': 'Tencent', 'ipo': {'valuation_amount': 11000000000.0}},\n",
       " {'name': 'Western Digital', 'ipo': {'valuation_amount': 9430000000.0}},\n",
       " {'name': 'LinkedIn', 'ipo': {'valuation_amount': 9310000000.0}},\n",
       " {'name': 'BMC Software', 'ipo': {'valuation_amount': 6000000000.0}},\n",
       " {'name': 'Rackspace', 'ipo': {'valuation_amount': 5440000000.0}}]"
      ]
     },
     "execution_count": 48,
     "metadata": {},
     "output_type": "execute_result"
    }
   ],
   "source": [
    "# Your Code\n",
    "\n",
    "query = ''\n",
    "\n",
    "select = {'_id' : 0, 'name': 1, 'ipo.valuation_amount': 1}\n",
    "\n",
    "res = list(companies.find(query, select).sort('ipo.valuation_amount', -1))\n",
    "\n",
    "res[:10]"
   ]
  },
  {
   "cell_type": "markdown",
   "metadata": {},
   "source": [
    "### 10. Retrieve the 10 companies with more employees, order by the `number of employees`"
   ]
  },
  {
   "cell_type": "code",
   "execution_count": 61,
   "metadata": {},
   "outputs": [
    {
     "data": {
      "text/plain": [
       "[{'name': 'Siemens', 'number_of_employees': 405000},\n",
       " {'name': 'IBM', 'number_of_employees': 388000},\n",
       " {'name': 'Toyota', 'number_of_employees': 320000},\n",
       " {'name': 'PayPal', 'number_of_employees': 300000},\n",
       " {'name': 'Nippon Telegraph and Telephone Corporation',\n",
       "  'number_of_employees': 227000},\n",
       " {'name': 'Samsung Electronics', 'number_of_employees': 221726},\n",
       " {'name': 'Accenture', 'number_of_employees': 205000},\n",
       " {'name': 'Tata Consultancy Services', 'number_of_employees': 200300},\n",
       " {'name': 'Flextronics International', 'number_of_employees': 200000},\n",
       " {'name': 'Safeway', 'number_of_employees': 186000}]"
      ]
     },
     "execution_count": 61,
     "metadata": {},
     "output_type": "execute_result"
    }
   ],
   "source": [
    "# Your Code\n",
    "query = ''\n",
    "\n",
    "select = {'_id' : 0, 'name': 1, 'number_of_employees': 1}\n",
    "\n",
    "res = list(companies.find(query, select).sort('number_of_employees', -1).limit(10))\n",
    "\n",
    "res[:10]"
   ]
  },
  {
   "cell_type": "markdown",
   "metadata": {},
   "source": [
    "### 11. All the companies founded on the second semester of the year. Limit your search to 1000 companies."
   ]
  },
  {
   "cell_type": "code",
   "execution_count": 52,
   "metadata": {},
   "outputs": [
    {
     "data": {
      "text/plain": [
       "[{'name': 'Facebook', 'founded_month': 2},\n",
       " {'name': 'Twitter', 'founded_month': 3},\n",
       " {'name': 'StumbleUpon', 'founded_month': 2},\n",
       " {'name': 'Gizmoz', 'founded_month': 1},\n",
       " {'name': 'Helio', 'founded_month': 2},\n",
       " {'name': 'Babelgum', 'founded_month': 3},\n",
       " {'name': 'Yahoo!', 'founded_month': 1},\n",
       " {'name': 'OpenX', 'founded_month': 5},\n",
       " {'name': 'Mahalo', 'founded_month': 3},\n",
       " {'name': 'Meetup', 'founded_month': 1}]"
      ]
     },
     "execution_count": 52,
     "metadata": {},
     "output_type": "execute_result"
    }
   ],
   "source": [
    "# Your Code\n",
    "\n",
    "# according to a user of quora '2nd semester starts from January (1st week ) and end in May (2nd week).'\n",
    "\n",
    "query = {'founded_month': {'$lte': 5} }\n",
    "\n",
    "select = {'_id' : 0, 'name': 1, 'founded_month': 1}\n",
    "\n",
    "res = list(companies.find(query, select))\n",
    "\n",
    "res[:10]"
   ]
  },
  {
   "cell_type": "markdown",
   "metadata": {},
   "source": [
    "### 12. All the companies founded before 2000 that have an acquisition amount of more than 10.000.00"
   ]
  },
  {
   "cell_type": "code",
   "execution_count": 60,
   "metadata": {},
   "outputs": [
    {
     "data": {
      "text/plain": [
       "[{'name': 'Postini', 'acquisition': {'price_amount': 625000000}},\n",
       " {'name': 'SideStep', 'acquisition': {'price_amount': 180000000}},\n",
       " {'name': 'Recipezaar', 'acquisition': {'price_amount': 25000000}},\n",
       " {'name': 'PayPal', 'acquisition': {'price_amount': 1500000000}},\n",
       " {'name': 'Snapfish', 'acquisition': {'price_amount': 300000000}},\n",
       " {'name': 'Neopets', 'acquisition': {'price_amount': 160000000}},\n",
       " {'name': 'Sun Microsystems', 'acquisition': {'price_amount': 7400000000.0}},\n",
       " {'name': 'Zappos', 'acquisition': {'price_amount': 1200000000}},\n",
       " {'name': 'Alibaba', 'acquisition': {'price_amount': 1000000000}},\n",
       " {'name': 'Sabre', 'acquisition': {'price_amount': 4300000000.0}}]"
      ]
     },
     "execution_count": 60,
     "metadata": {},
     "output_type": "execute_result"
    }
   ],
   "source": [
    "# Your Code\n",
    "query = {'$and': [{'founded_year': {'$lt': 2000}} , {'acquisition.price_amount': {'$gt': 10_000_000}}]}\n",
    "\n",
    "select = {'_id' : 0, 'name': 1, 'acquisition.price_amount': 1}\n",
    "\n",
    "res = list(companies.find(query, select))\n",
    "\n",
    "res[:10]"
   ]
  },
  {
   "cell_type": "markdown",
   "metadata": {},
   "source": [
    "### 13. All the companies that have been acquired after 2010, order by the acquisition amount, and retrieve only their `name` and `acquisition` field."
   ]
  },
  {
   "cell_type": "code",
   "execution_count": null,
   "metadata": {},
   "outputs": [],
   "source": [
    "# Your Code\n",
    "query = {'$and': [{'founded_year': {'$lt': 2000}} , {'acquisition.price_amount': {'$gt': 10_000_000}}]}\n",
    "\n",
    "select = {'_id' : 0, 'name': 1, 'acquisition.price_amount': 1}\n",
    "\n",
    "res = list(companies.find(query, select))\n",
    "\n",
    "res[:10]"
   ]
  },
  {
   "cell_type": "markdown",
   "metadata": {},
   "source": [
    "### 14. Order the companies by their `founded year`, retrieving only their `name` and `founded year`."
   ]
  },
  {
   "cell_type": "code",
   "execution_count": 71,
   "metadata": {},
   "outputs": [
    {
     "data": {
      "text/plain": [
       "[{'name': 'Fixya', 'founded_year': 2013},\n",
       " {'name': 'Wamba', 'founded_year': 2013},\n",
       " {'name': 'Advaliant', 'founded_year': 2013},\n",
       " {'name': 'Fluc', 'founded_year': 2013},\n",
       " {'name': 'iBazar', 'founded_year': 2013},\n",
       " {'name': 'Gimigo', 'founded_year': 2013},\n",
       " {'name': 'SEOGroup', 'founded_year': 2013},\n",
       " {'name': 'Clowdy', 'founded_year': 2013},\n",
       " {'name': 'WhosCall', 'founded_year': 2013},\n",
       " {'name': 'Pikk', 'founded_year': 2013}]"
      ]
     },
     "execution_count": 71,
     "metadata": {},
     "output_type": "execute_result"
    }
   ],
   "source": [
    "# Your Code\n",
    "query = ''\n",
    "\n",
    "select = {'_id' : 0, 'name': 1, 'founded_year': 1}\n",
    "\n",
    "res = list(companies.find(query, select).sort('founded_year', -1))\n",
    "\n",
    "res[:10]"
   ]
  },
  {
   "cell_type": "markdown",
   "metadata": {},
   "source": [
    "### 15. All the companies that have been founded on the first seven days of the month, including the seventh. Sort them by their `acquisition price` in a descending order. Limit the search to 10 documents."
   ]
  },
  {
   "cell_type": "code",
   "execution_count": 76,
   "metadata": {},
   "outputs": [
    {
     "data": {
      "text/plain": [
       "[{'name': 'Sun Microsystems', 'acquisition': {'price_amount': 7400000000.0}},\n",
       " {'name': 'Siebel Systems', 'acquisition': {'price_amount': 5850000000.0}},\n",
       " {'name': 'Netscape', 'acquisition': {'price_amount': 4200000000.0}},\n",
       " {'name': 'SuccessFactors', 'acquisition': {'price_amount': 3400000000.0}},\n",
       " {'name': 'YouTube', 'acquisition': {'price_amount': 1650000000}},\n",
       " {'name': 'Zappos', 'acquisition': {'price_amount': 1200000000}},\n",
       " {'name': 'Meraki', 'acquisition': {'price_amount': 1200000000}},\n",
       " {'name': 'Tumblr', 'acquisition': {'price_amount': 1100000000}},\n",
       " {'name': 'Alibaba', 'acquisition': {'price_amount': 1000000000}},\n",
       " {'name': 'Kiva Systems', 'acquisition': {'price_amount': 775000000}}]"
      ]
     },
     "execution_count": 76,
     "metadata": {},
     "output_type": "execute_result"
    }
   ],
   "source": [
    "# Your Code\n",
    "query = {'founded_month': {'$lte': 7}}\n",
    "\n",
    "select = {'_id' : 0, 'name': 1, 'acquisition.price_amount': 1}\n",
    "\n",
    "res = list(companies.find(query, select).sort('acquisition.price_amount', -1).limit(10))\n",
    "\n",
    "res"
   ]
  },
  {
   "cell_type": "markdown",
   "metadata": {},
   "source": [
    "### 16. All the companies on the 'web' `category` that have more than 4000 employees. Sort them by the amount of employees in ascending order."
   ]
  },
  {
   "cell_type": "code",
   "execution_count": 79,
   "metadata": {},
   "outputs": [
    {
     "data": {
      "text/plain": [
       "[{'name': 'eBay', 'category_code': 'web', 'number_of_employees': 15000},\n",
       " {'name': 'Yahoo!', 'category_code': 'web', 'number_of_employees': 13600},\n",
       " {'name': 'AOL', 'category_code': 'web', 'number_of_employees': 8000},\n",
       " {'name': 'Webkinz', 'category_code': 'web', 'number_of_employees': 8657},\n",
       " {'name': 'Rakuten', 'category_code': 'web', 'number_of_employees': 10000},\n",
       " {'name': 'Expedia', 'category_code': 'web', 'number_of_employees': 4400},\n",
       " {'name': 'Experian', 'category_code': 'web', 'number_of_employees': 15500},\n",
       " {'name': 'Los Angeles Times Media Group',\n",
       "  'category_code': 'web',\n",
       "  'number_of_employees': 10000},\n",
       " {'name': 'Groupon', 'category_code': 'web', 'number_of_employees': 10000}]"
      ]
     },
     "execution_count": 79,
     "metadata": {},
     "output_type": "execute_result"
    }
   ],
   "source": [
    "# Your Code\n",
    "query = {'$and':[{'category_code': 'web'}, {'number_of_employees': {'$gt': 4000}}]}\n",
    "\n",
    "select = {'_id' : 0, 'name': 1, 'category_code': 1, 'number_of_employees': 1}\n",
    "\n",
    "res = list(companies.find(query, select).sort('acquisition.price_amount', -1).limit(10))\n",
    "\n",
    "res[:10]"
   ]
  },
  {
   "cell_type": "markdown",
   "metadata": {},
   "source": [
    "### 17. All the companies whose acquisition amount is more than 10.000.000, and currency is 'EUR'."
   ]
  },
  {
   "cell_type": "code",
   "execution_count": 81,
   "metadata": {},
   "outputs": [
    {
     "data": {
      "text/plain": [
       "[{'name': 'Apertio',\n",
       "  'acquisition': {'price_amount': 140000000, 'price_currency_code': 'EUR'}},\n",
       " {'name': 'Webedia',\n",
       "  'acquisition': {'price_amount': 70000000, 'price_currency_code': 'EUR'}},\n",
       " {'name': 'Tuenti Technologies',\n",
       "  'acquisition': {'price_amount': 70000000, 'price_currency_code': 'EUR'}},\n",
       " {'name': 'BioMed Central',\n",
       "  'acquisition': {'price_amount': 43400000, 'price_currency_code': 'EUR'}},\n",
       " {'name': 'Greenfield Online',\n",
       "  'acquisition': {'price_amount': 40000000, 'price_currency_code': 'EUR'}},\n",
       " {'name': 'ZYB',\n",
       "  'acquisition': {'price_amount': 31500000, 'price_currency_code': 'EUR'}},\n",
       " {'name': 'Wayfinder',\n",
       "  'acquisition': {'price_amount': 24000000, 'price_currency_code': 'EUR'}}]"
      ]
     },
     "execution_count": 81,
     "metadata": {},
     "output_type": "execute_result"
    }
   ],
   "source": [
    "# Your Code\n",
    "query = {'$and':[{'acquisition.price_amount': {'$gt': 10_000_000}}, {'acquisition.price_currency_code': 'EUR'}]}\n",
    "\n",
    "select = {'_id' : 0, 'name': 1, 'acquisition.price_amount': 1, 'acquisition.price_currency_code': 1}\n",
    "\n",
    "res = list(companies.find(query, select).sort('acquisition.price_amount', -1).limit(10))\n",
    "\n",
    "res[:10]"
   ]
  },
  {
   "cell_type": "markdown",
   "metadata": {},
   "source": [
    "### 18. All the companies that have been acquired on the first trimester of the year. Limit the search to 10 companies, and retrieve only their `name` and `acquisition` fields."
   ]
  },
  {
   "cell_type": "code",
   "execution_count": 83,
   "metadata": {},
   "outputs": [
    {
     "data": {
      "text/plain": [
       "[{'name': 'Kyte',\n",
       "  'acquisition': {'price_amount': None,\n",
       "   'price_currency_code': 'USD',\n",
       "   'term_code': None,\n",
       "   'source_url': 'http://techcrunch.com/2011/01/31/exclusive-kit-digital-acquires-kickapps-kewego-and-kyte-for-77-2-million/',\n",
       "   'source_description': 'KIT digital Acquires KickApps, Kewego AND Kyte For $77.2 Million',\n",
       "   'acquired_year': 2011,\n",
       "   'acquired_month': 1,\n",
       "   'acquired_day': 31,\n",
       "   'acquiring_company': {'name': 'KIT digital', 'permalink': 'kit-digital'}}}]"
      ]
     },
     "execution_count": 83,
     "metadata": {},
     "output_type": "execute_result"
    }
   ],
   "source": [
    "# Your Code\n",
    "query = {'acquisition.acquired_month': {'$lt': 4}}\n",
    "\n",
    "select = {'_id' : 0, 'name': 1, 'acquisition': 1}\n",
    "\n",
    "res = list(companies.find(query, select).limit(10))\n",
    "\n",
    "res[:1]"
   ]
  },
  {
   "cell_type": "markdown",
   "metadata": {},
   "source": [
    "# Bonus\n",
    "### 19. All the companies that have been founded between 2000 and 2010, but have not been acquired before 2011."
   ]
  },
  {
   "cell_type": "code",
   "execution_count": null,
   "metadata": {},
   "outputs": [],
   "source": [
    "# Your Code"
   ]
  },
  {
   "cell_type": "markdown",
   "metadata": {},
   "source": [
    "### 20. All the companies that have been 'deadpooled' after the third year."
   ]
  },
  {
   "cell_type": "code",
   "execution_count": null,
   "metadata": {},
   "outputs": [],
   "source": [
    "# Your Code"
   ]
  }
 ],
 "metadata": {
  "kernelspec": {
   "display_name": "Python 3 (ipykernel)",
   "language": "python",
   "name": "python3"
  },
  "language_info": {
   "codemirror_mode": {
    "name": "ipython",
    "version": 3
   },
   "file_extension": ".py",
   "mimetype": "text/x-python",
   "name": "python",
   "nbconvert_exporter": "python",
   "pygments_lexer": "ipython3",
   "version": "3.11.4"
  }
 },
 "nbformat": 4,
 "nbformat_minor": 2
}
