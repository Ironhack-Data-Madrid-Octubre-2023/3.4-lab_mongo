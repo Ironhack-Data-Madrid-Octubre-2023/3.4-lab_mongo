{
 "cells": [
  {
   "cell_type": "markdown",
   "metadata": {},
   "source": [
    "# Advanced Querying Mongo"
   ]
  },
  {
   "cell_type": "markdown",
   "metadata": {},
   "source": [
    "Importing libraries and setting up connection"
   ]
  },
  {
   "cell_type": "code",
   "execution_count": 22,
   "metadata": {},
   "outputs": [
    {
     "name": "stdout",
     "output_type": "stream",
     "text": [
      "Requirement already satisfied: pymongo in /Users/yaninafontana/anaconda3/lib/python3.11/site-packages (4.5.0)\n",
      "Requirement already satisfied: dnspython<3.0.0,>=1.16.0 in /Users/yaninafontana/anaconda3/lib/python3.11/site-packages (from pymongo) (2.4.2)\n",
      "Note: you may need to restart the kernel to use updated packages.\n"
     ]
    }
   ],
   "source": [
    "# from pymongo import MongoClient\n",
    "# client = MongoClient(\"\")\n",
    "\n",
    "%pip install pymongo\n",
    "from pymongo import MongoClient\n",
    "cursor=MongoClient() "
   ]
  },
  {
   "cell_type": "markdown",
   "metadata": {},
   "source": [
    "### 1. All the companies whose name match 'Babelgum'. Retrieve only their `name` field."
   ]
  },
  {
   "cell_type": "code",
   "execution_count": 37,
   "metadata": {},
   "outputs": [
    {
     "data": {
      "text/plain": [
       "[{'name': 'Babelgum'}]"
      ]
     },
     "execution_count": 37,
     "metadata": {},
     "output_type": "execute_result"
    }
   ],
   "source": [
    "# Your Code\n",
    "\n",
    "db = cursor.companies\n",
    "collection = db.coleccion\n",
    "\n",
    "\n",
    "query = {\"name\": \"Babelgum\"}\n",
    "\n",
    "res = collection.find(query, {\"name\": 1, \"_id\": 0})\n",
    "\n",
    "list(res)"
   ]
  },
  {
   "cell_type": "code",
   "execution_count": 41,
   "metadata": {},
   "outputs": [
    {
     "data": {
      "text/plain": [
       "'Babelgum'"
      ]
     },
     "execution_count": 41,
     "metadata": {},
     "output_type": "execute_result"
    }
   ],
   "source": [
    "db = cursor.companies\n",
    "collection = db.coleccion\n",
    "\n",
    "\n",
    "query = {\"name\": \"Babelgum\"}\n",
    "\n",
    "res = collection.find(query, {\"name\": 1, \"_id\": 0})\n",
    "\n",
    "\n",
    "for company in res:\n",
    "    print(company[\"name\"])"
   ]
  },
  {
   "cell_type": "markdown",
   "metadata": {},
   "source": [
    "### 2. All the companies that have more than 5000 employees. Limit the search to 20 companies and sort them by **number of employees**."
   ]
  },
  {
   "cell_type": "code",
   "execution_count": 51,
   "metadata": {},
   "outputs": [
    {
     "data": {
      "text/plain": [
       "[{'name': 'Nintendo', 'number_of_employees': 5080},\n",
       " {'name': 'Hexaware Technologies', 'number_of_employees': 5200},\n",
       " {'name': 'Facebook', 'number_of_employees': 5299},\n",
       " {'name': 'OpenText', 'number_of_employees': 5300},\n",
       " {'name': 'LSI', 'number_of_employees': 5400},\n",
       " {'name': 'CPM Braxis', 'number_of_employees': 5400},\n",
       " {'name': 'Microchip Technologies', 'number_of_employees': 5500},\n",
       " {'name': 'Mediaset', 'number_of_employees': 5729},\n",
       " {'name': 'Mindray Medical International', 'number_of_employees': 5763},\n",
       " {'name': 'Baidu', 'number_of_employees': 6000},\n",
       " {'name': 'Dentsu', 'number_of_employees': 6000},\n",
       " {'name': 'Tata Communications', 'number_of_employees': 6000},\n",
       " {'name': 'Atmel', 'number_of_employees': 6000},\n",
       " {'name': 'Acxiom', 'number_of_employees': 6200},\n",
       " {'name': 'Acxiom', 'number_of_employees': 6200},\n",
       " {'name': 'SRA International', 'number_of_employees': 6400},\n",
       " {'name': \"Moody's\", 'number_of_employees': 6800},\n",
       " {'name': 'ManTech', 'number_of_employees': 7000},\n",
       " {'name': 'Adobe Systems', 'number_of_employees': 7173},\n",
       " {'name': 'Broadcom', 'number_of_employees': 7400}]"
      ]
     },
     "execution_count": 51,
     "metadata": {},
     "output_type": "execute_result"
    }
   ],
   "source": [
    "# Your Code\n",
    "\n",
    "query = {\"number_of_employees\": {\"$gt\": 5000}}\n",
    "\n",
    "res = collection.find(query, {\"name\": 1, \n",
    "                              \"number_of_employees\": 1,\n",
    "                              \"_id\": 0}).limit(20).sort(\"number_of_employees\", 1)\n",
    "\n",
    "list(res)"
   ]
  },
  {
   "cell_type": "markdown",
   "metadata": {},
   "source": [
    "### 3. All the companies founded between 2000 and 2005, both years included. Retrieve only the `name` and `founded_year` fields."
   ]
  },
  {
   "cell_type": "code",
   "execution_count": 55,
   "metadata": {},
   "outputs": [
    {
     "data": {
      "text/plain": [
       "[{'name': 'Wetpaint', 'founded_year': 2005},\n",
       " {'name': 'Zoho', 'founded_year': 2005},\n",
       " {'name': 'Digg', 'founded_year': 2004},\n",
       " {'name': 'Facebook', 'founded_year': 2004},\n",
       " {'name': 'Omnidrive', 'founded_year': 2005},\n",
       " {'name': 'StumbleUpon', 'founded_year': 2002},\n",
       " {'name': 'Gizmoz', 'founded_year': 2003},\n",
       " {'name': 'Helio', 'founded_year': 2005},\n",
       " {'name': 'Plaxo', 'founded_year': 2002},\n",
       " {'name': 'Technorati', 'founded_year': 2002},\n",
       " {'name': 'AddThis', 'founded_year': 2004},\n",
       " {'name': 'Veoh', 'founded_year': 2004},\n",
       " {'name': 'Jingle Networks', 'founded_year': 2005},\n",
       " {'name': 'Meetup', 'founded_year': 2002},\n",
       " {'name': 'LifeLock', 'founded_year': 2005},\n",
       " {'name': 'Wesabe', 'founded_year': 2005},\n",
       " {'name': 'Jangl SMS', 'founded_year': 2005},\n",
       " {'name': 'SmugMug', 'founded_year': 2002},\n",
       " {'name': 'Jajah', 'founded_year': 2005},\n",
       " {'name': 'Skype', 'founded_year': 2003}]"
      ]
     },
     "execution_count": 55,
     "metadata": {},
     "output_type": "execute_result"
    }
   ],
   "source": [
    "# Your Code\n",
    "query = {'$and': [{\"founded_year\": {'$lte': 2005}},\n",
    "                {\"founded_year\": {'$gte': 2000}}]}\n",
    "\n",
    "\n",
    "res = collection.find(query, {\"name\": 1, \n",
    "                              \"founded_year\":1,\n",
    "                              \"_id\": 0}).limit(20)\n",
    "list(res)"
   ]
  },
  {
   "cell_type": "markdown",
   "metadata": {},
   "source": [
    "### 4. All the companies that had a Valuation Amount of more than 100.000.000 and have been founded before 2010. Retrieve only the `name` and `ipo` fields."
   ]
  },
  {
   "cell_type": "code",
   "execution_count": 118,
   "metadata": {},
   "outputs": [
    {
     "data": {
      "text/plain": [
       "[{'name': 'Facebook', 'ipo': {'valuation_amount': 104000000000.0}},\n",
       " {'name': 'Twitter', 'ipo': {'valuation_amount': 18100000000.0}},\n",
       " {'name': 'Yelp', 'ipo': {'valuation_amount': 1300000000}}]"
      ]
     },
     "execution_count": 118,
     "metadata": {},
     "output_type": "execute_result"
    }
   ],
   "source": [
    "query = {\n",
    "    \"ipo.valuation_amount\": {\"$gt\": 100000000},\n",
    "    \"founded_year\": {\"$lt\": 2010}\n",
    "}\n",
    "        \n",
    "\n",
    "res = collection.find(query, {\"name\": 1, \n",
    "                              \"ipo.valuation_amount\": 1,\n",
    "                              \"_id\": 0}).limit(3)\n",
    "list(res)"
   ]
  },
  {
   "cell_type": "markdown",
   "metadata": {},
   "source": [
    "### 5. All the companies that have less than 1000 employees and have been founded before 2005. Order them by the number of employees and limit the search to 10 companies."
   ]
  },
  {
   "cell_type": "code",
   "execution_count": 61,
   "metadata": {},
   "outputs": [
    {
     "data": {
      "text/plain": [
       "[{'name': 'Fox Interactive Media',\n",
       "  'number_of_employees': 0,\n",
       "  'founded_year': 1979},\n",
       " {'name': 'Ticketmaster', 'number_of_employees': 0, 'founded_year': 1976},\n",
       " {'name': 'Eurekster', 'number_of_employees': 0, 'founded_year': 2004},\n",
       " {'name': 'MindTouch', 'number_of_employees': 0, 'founded_year': 2004},\n",
       " {'name': 'Skype', 'number_of_employees': 0, 'founded_year': 2003},\n",
       " {'name': 'Monster', 'number_of_employees': 0, 'founded_year': 1994},\n",
       " {'name': 'EditGrid', 'number_of_employees': 0, 'founded_year': 2003},\n",
       " {'name': 'Simpy', 'number_of_employees': 0, 'founded_year': 2004},\n",
       " {'name': 'Compete', 'number_of_employees': 0, 'founded_year': 2000},\n",
       " {'name': 'stylediary', 'number_of_employees': 0, 'founded_year': 2004}]"
      ]
     },
     "execution_count": 61,
     "metadata": {},
     "output_type": "execute_result"
    }
   ],
   "source": [
    "# Your Code\n",
    "query = {\n",
    "    \"number_of_employees\": {\"$lt\": 1000},\n",
    "    \"founded_year\": {\"$lt\": 2005}\n",
    "}\n",
    "        \n",
    "\n",
    "res = collection.find(query, {\"name\": 1, \n",
    "                              \"number_of_employees\": 1,\n",
    "                              \"founded_year\":1,\n",
    "                              \"_id\": 0}).limit(10).sort(\"number_of_employees\", 1)\n",
    "list(res)"
   ]
  },
  {
   "cell_type": "markdown",
   "metadata": {},
   "source": [
    "### 6. All the companies that don't include the `partners` field."
   ]
  },
  {
   "cell_type": "code",
   "execution_count": 65,
   "metadata": {},
   "outputs": [
    {
     "data": {
      "text/plain": [
       "[]"
      ]
     },
     "execution_count": 65,
     "metadata": {},
     "output_type": "execute_result"
    }
   ],
   "source": [
    "# Your Code\n",
    "\n",
    "query = {\n",
    "    \"partners\": {\"$exists\": False}\n",
    "}\n",
    "\n",
    "res = collection.find(query).limit(5)\n",
    "\n",
    "list(res)"
   ]
  },
  {
   "cell_type": "markdown",
   "metadata": {},
   "source": [
    "### 7. All the companies that have a null type of value on the `category_code` field."
   ]
  },
  {
   "cell_type": "code",
   "execution_count": 72,
   "metadata": {},
   "outputs": [
    {
     "data": {
      "text/plain": [
       "[{'_id': ObjectId('52cdef7c4bab8bd6752980f6'),\n",
       "  'name': 'Collective',\n",
       "  'permalink': 'collective',\n",
       "  'crunchbase_url': 'http://www.crunchbase.com/company/collective',\n",
       "  'homepage_url': None,\n",
       "  'blog_url': None,\n",
       "  'blog_feed_url': None,\n",
       "  'twitter_username': None,\n",
       "  'category_code': None,\n",
       "  'number_of_employees': None,\n",
       "  'founded_year': None,\n",
       "  'founded_month': None,\n",
       "  'founded_day': None,\n",
       "  'deadpooled_year': None,\n",
       "  'deadpooled_month': None,\n",
       "  'deadpooled_day': None,\n",
       "  'deadpooled_url': None,\n",
       "  'tag_list': None,\n",
       "  'alias_list': None,\n",
       "  'email_address': None,\n",
       "  'phone_number': None,\n",
       "  'description': None,\n",
       "  'created_at': 'Thu Sep 26 13:15:02 UTC 2013',\n",
       "  'updated_at': 'Thu Sep 26 13:15:02 UTC 2013',\n",
       "  'overview': None,\n",
       "  'image': None,\n",
       "  'products': [],\n",
       "  'relationships': [],\n",
       "  'competitions': [],\n",
       "  'providerships': [],\n",
       "  'total_money_raised': '$0',\n",
       "  'funding_rounds': [],\n",
       "  'investments': [],\n",
       "  'acquisition': None,\n",
       "  'acquisitions': [],\n",
       "  'offices': [],\n",
       "  'milestones': [],\n",
       "  'ipo': None,\n",
       "  'video_embeds': [],\n",
       "  'screenshots': [],\n",
       "  'external_links': [],\n",
       "  'partners': []}]"
      ]
     },
     "execution_count": 72,
     "metadata": {},
     "output_type": "execute_result"
    }
   ],
   "source": [
    "# Your Code\n",
    "\n",
    "query = {\"category_code\": None}\n",
    "\n",
    "res = collection.find(query).limit(1)\n",
    "\n",
    "list(res)"
   ]
  },
  {
   "cell_type": "code",
   "execution_count": 71,
   "metadata": {},
   "outputs": [
    {
     "data": {
      "text/plain": [
       "[{'name': 'Collective', 'category_code': None},\n",
       " {'name': 'Snimmer', 'category_code': None},\n",
       " {'name': 'KoolIM', 'category_code': None},\n",
       " {'name': 'Level9 Media', 'category_code': None},\n",
       " {'name': 'VidKing', 'category_code': None},\n",
       " {'name': 'Drigg', 'category_code': None},\n",
       " {'name': 'SpaceTime', 'category_code': None},\n",
       " {'name': 'Touch Clarity', 'category_code': None},\n",
       " {'name': 'MMDAYS', 'category_code': None},\n",
       " {'name': 'Inside Group', 'category_code': None}]"
      ]
     },
     "execution_count": 71,
     "metadata": {},
     "output_type": "execute_result"
    }
   ],
   "source": [
    "# Your Code\n",
    "\n",
    "query = {\"category_code\": None}\n",
    "\n",
    "res = collection.find(query, {\"name\": 1, \n",
    "                              \"category_code\": 1,\n",
    "                              \"_id\": 0}).limit(10)\n",
    "\n",
    "list(res)"
   ]
  },
  {
   "cell_type": "markdown",
   "metadata": {},
   "source": [
    "### 8. All the companies that have at least 100 employees but less than 1000. Retrieve only the `name` and `number of employees` fields."
   ]
  },
  {
   "cell_type": "code",
   "execution_count": 74,
   "metadata": {},
   "outputs": [
    {
     "data": {
      "text/plain": [
       "[{'name': 'AdventNet', 'number_of_employees': 600},\n",
       " {'name': 'AddThis', 'number_of_employees': 120},\n",
       " {'name': 'OpenX', 'number_of_employees': 305},\n",
       " {'name': 'LifeLock', 'number_of_employees': 644},\n",
       " {'name': 'Jajah', 'number_of_employees': 110},\n",
       " {'name': 'Livestream', 'number_of_employees': 120},\n",
       " {'name': 'Ustream', 'number_of_employees': 250},\n",
       " {'name': 'iContact', 'number_of_employees': 300},\n",
       " {'name': 'Yelp', 'number_of_employees': 800},\n",
       " {'name': 'Dailymotion', 'number_of_employees': 120},\n",
       " {'name': 'RockYou', 'number_of_employees': 106},\n",
       " {'name': 'Meebo', 'number_of_employees': 200},\n",
       " {'name': 'Eventbrite', 'number_of_employees': 200},\n",
       " {'name': 'Box', 'number_of_employees': 950},\n",
       " {'name': 'Conduit', 'number_of_employees': 215},\n",
       " {'name': 'Redfin', 'number_of_employees': 100},\n",
       " {'name': 'oDesk', 'number_of_employees': 120},\n",
       " {'name': 'Simply Hired', 'number_of_employees': 100},\n",
       " {'name': 'PhotoBox', 'number_of_employees': 600},\n",
       " {'name': 'Spreadshirt', 'number_of_employees': 230}]"
      ]
     },
     "execution_count": 74,
     "metadata": {},
     "output_type": "execute_result"
    }
   ],
   "source": [
    "# Your Code\n",
    "\n",
    "query = {'$and': [{\"number_of_employees\": {'$lte': 1000}},\n",
    "                {\"number_of_employees\": {'$gte': 100}}]}\n",
    "\n",
    "\n",
    "res = collection.find(query, {\"name\": 1, \n",
    "                              \"number_of_employees\":1,\n",
    "                              \"_id\": 0}).limit(20)\n",
    "list(res)"
   ]
  },
  {
   "cell_type": "markdown",
   "metadata": {},
   "source": [
    "### 9. Order all the companies by their IPO price in a descending order."
   ]
  },
  {
   "cell_type": "code",
   "execution_count": 80,
   "metadata": {},
   "outputs": [
    {
     "data": {
      "text/plain": [
       "[{'name': 'GREE', 'ipo': {'valuation_amount': 108960000000.0}},\n",
       " {'name': 'Facebook', 'ipo': {'valuation_amount': 104000000000.0}},\n",
       " {'name': 'Amazon', 'ipo': {'valuation_amount': 100000000000.0}},\n",
       " {'name': 'Twitter', 'ipo': {'valuation_amount': 18100000000.0}},\n",
       " {'name': 'Groupon', 'ipo': {'valuation_amount': 12800000000.0}},\n",
       " {'name': 'Tencent', 'ipo': {'valuation_amount': 11000000000.0}},\n",
       " {'name': 'Western Digital', 'ipo': {'valuation_amount': 9430000000.0}},\n",
       " {'name': 'LinkedIn', 'ipo': {'valuation_amount': 9310000000.0}},\n",
       " {'name': 'BMC Software', 'ipo': {'valuation_amount': 6000000000.0}},\n",
       " {'name': 'Rackspace', 'ipo': {'valuation_amount': 5440000000.0}},\n",
       " {'name': 'Baidu', 'ipo': {'valuation_amount': 4000000000.0}},\n",
       " {'name': 'TripAdvisor', 'ipo': {'valuation_amount': 3273770000.0}},\n",
       " {'name': 'HomeAway', 'ipo': {'valuation_amount': 3000000000.0}},\n",
       " {'name': 'Zillow', 'ipo': {'valuation_amount': 2550000000.0}},\n",
       " {'name': 'Nielsen', 'ipo': {'valuation_amount': 1600000000}},\n",
       " {'name': 'Yelp', 'ipo': {'valuation_amount': 1300000000}},\n",
       " {'name': 'Chegg', 'ipo': {'valuation_amount': 1100000000}},\n",
       " {'name': 'Chegg', 'ipo': {'valuation_amount': 1100000000}},\n",
       " {'name': 'RPX Corporation', 'ipo': {'valuation_amount': 1096000000}},\n",
       " {'name': 'Higher One', 'ipo': {'valuation_amount': 1060000000}}]"
      ]
     },
     "execution_count": 80,
     "metadata": {},
     "output_type": "execute_result"
    }
   ],
   "source": [
    "# Your Code\n",
    "\n",
    "query = {\"ipo.valuation_amount\": {'$gte': 0}}\n",
    "\n",
    "\n",
    "res = collection.find(query, {\"name\": 1, \n",
    "                              \"ipo.valuation_amount\":1,\n",
    "                              \"_id\": 0}).limit(20).sort(\"ipo.valuation_amount\", -1)\n",
    "\n",
    "\n",
    "list(res)"
   ]
  },
  {
   "cell_type": "markdown",
   "metadata": {},
   "source": [
    "### 10. Retrieve the 10 companies with more employees, order by the `number of employees`"
   ]
  },
  {
   "cell_type": "code",
   "execution_count": 82,
   "metadata": {},
   "outputs": [
    {
     "data": {
      "text/plain": [
       "[{'name': 'Siemens', 'number_of_employees': 405000},\n",
       " {'name': 'IBM', 'number_of_employees': 388000},\n",
       " {'name': 'Toyota', 'number_of_employees': 320000},\n",
       " {'name': 'PayPal', 'number_of_employees': 300000},\n",
       " {'name': 'Nippon Telegraph and Telephone Corporation',\n",
       "  'number_of_employees': 227000},\n",
       " {'name': 'Samsung Electronics', 'number_of_employees': 221726},\n",
       " {'name': 'Accenture', 'number_of_employees': 205000},\n",
       " {'name': 'Tata Consultancy Services', 'number_of_employees': 200300},\n",
       " {'name': 'Flextronics International', 'number_of_employees': 200000},\n",
       " {'name': 'Safeway', 'number_of_employees': 186000}]"
      ]
     },
     "execution_count": 82,
     "metadata": {},
     "output_type": "execute_result"
    }
   ],
   "source": [
    "# Your Code\n",
    "\n",
    "query = {\"number_of_employees\": {'$gte': 0}}\n",
    "\n",
    "\n",
    "res = collection.find(query, {\"name\": 1, \n",
    "                              \"number_of_employees\":1,\n",
    "                              \"_id\": 0}).limit(10).sort(\"number_of_employees\", -1)\n",
    "\n",
    "\n",
    "list(res)"
   ]
  },
  {
   "cell_type": "markdown",
   "metadata": {},
   "source": [
    "### 11. All the companies founded on the second semester of the year. Limit your search to 1000 companies."
   ]
  },
  {
   "cell_type": "code",
   "execution_count": 86,
   "metadata": {},
   "outputs": [
    {
     "data": {
      "text/plain": [
       "[{'name': 'Wetpaint', 'founded_month': 10},\n",
       " {'name': 'Zoho', 'founded_month': 9},\n",
       " {'name': 'Digg', 'founded_month': 10},\n",
       " {'name': 'Omnidrive', 'founded_month': 11},\n",
       " {'name': 'eBay', 'founded_month': 9},\n",
       " {'name': 'Joost', 'founded_month': 10},\n",
       " {'name': 'Plaxo', 'founded_month': 11},\n",
       " {'name': 'Powerset', 'founded_month': 10},\n",
       " {'name': 'Kyte', 'founded_month': 12},\n",
       " {'name': 'Thoof', 'founded_month': 12}]"
      ]
     },
     "execution_count": 86,
     "metadata": {},
     "output_type": "execute_result"
    }
   ],
   "source": [
    "# Your Code\n",
    "\n",
    "query = {'$and': [{\"founded_month\": {'$lte': 12}},\n",
    "                {\"founded_month\": {'$gte': 7}}]}\n",
    "\n",
    "\n",
    "res = collection.find(query, {\"name\": 1, \n",
    "                              \"founded_month\":1,\n",
    "                              \"_id\": 0}).limit(10)\n",
    "\n",
    "\n",
    "list(res)\n",
    "\n"
   ]
  },
  {
   "cell_type": "markdown",
   "metadata": {},
   "source": [
    "### 12. All the companies founded before 2000 that have an acquisition amount of more than 10.000.000"
   ]
  },
  {
   "cell_type": "code",
   "execution_count": 115,
   "metadata": {},
   "outputs": [
    {
     "data": {
      "text/plain": [
       "[{'name': 'Postini',\n",
       "  'founded_year': 1999,\n",
       "  'acquisition': {'price_amount': 625000000}},\n",
       " {'name': 'SideStep',\n",
       "  'founded_year': 1999,\n",
       "  'acquisition': {'price_amount': 180000000}},\n",
       " {'name': 'Recipezaar',\n",
       "  'founded_year': 1999,\n",
       "  'acquisition': {'price_amount': 25000000}},\n",
       " {'name': 'PayPal',\n",
       "  'founded_year': 1998,\n",
       "  'acquisition': {'price_amount': 1500000000}},\n",
       " {'name': 'Snapfish',\n",
       "  'founded_year': 1999,\n",
       "  'acquisition': {'price_amount': 300000000}},\n",
       " {'name': 'Neopets',\n",
       "  'founded_year': 1999,\n",
       "  'acquisition': {'price_amount': 160000000}},\n",
       " {'name': 'Sun Microsystems',\n",
       "  'founded_year': 1982,\n",
       "  'acquisition': {'price_amount': 7400000000.0}},\n",
       " {'name': 'Zappos',\n",
       "  'founded_year': 1999,\n",
       "  'acquisition': {'price_amount': 1200000000}},\n",
       " {'name': 'Alibaba',\n",
       "  'founded_year': 1999,\n",
       "  'acquisition': {'price_amount': 1000000000}},\n",
       " {'name': 'Sabre',\n",
       "  'founded_year': 1960,\n",
       "  'acquisition': {'price_amount': 4300000000.0}}]"
      ]
     },
     "execution_count": 115,
     "metadata": {},
     "output_type": "execute_result"
    }
   ],
   "source": [
    "# Your Code   \n",
    "\n",
    "query = {'$and': [{'founded_year': {'$lt': 2000}},\n",
    "                  {'acquisition.price_amount': {'$gt': 10000000}}\n",
    "                 ]}\n",
    "        \n",
    "\n",
    "res = collection.find(query, {\"name\": 1, \n",
    "                              \"acquisition.price_amount\": 1,\n",
    "                              \"founded_year\": 1, \n",
    "                              \"_id\": 0}).limit(10)\n",
    "list(res)"
   ]
  },
  {
   "cell_type": "markdown",
   "metadata": {},
   "source": [
    "### 13. All the companies that have been acquired after 2010, order by the acquisition amount, and retrieve only their `name` and `acquisition` field."
   ]
  },
  {
   "cell_type": "code",
   "execution_count": 117,
   "metadata": {},
   "outputs": [
    {
     "data": {
      "text/plain": [
       "[{'name': 'T-Mobile', 'acquisition': {'acquired_year': 2011}},\n",
       " {'name': 'Goodrich Corporation', 'acquisition': {'acquired_year': 2011}},\n",
       " {'name': 'LSI', 'acquisition': {'acquired_year': 2013}},\n",
       " {'name': 'National Semiconductor', 'acquisition': {'acquired_year': 2011}},\n",
       " {'name': 'Ariba', 'acquisition': {'acquired_year': 2012}}]"
      ]
     },
     "execution_count": 117,
     "metadata": {},
     "output_type": "execute_result"
    }
   ],
   "source": [
    "# Your Code\n",
    "\n",
    "query = {\"acquisition.acquired_year\": {\"$gt\": 2010}}\n",
    "\n",
    "\n",
    "res = collection.find(query, {\"name\": 1, \n",
    "                              \"acquisition.acquired_year\": 1,\n",
    "                              \"_id\": 0}).limit(5).sort(\"acquisition.price_amount\", -1)\n",
    "\n",
    "list(res)"
   ]
  },
  {
   "cell_type": "markdown",
   "metadata": {},
   "source": [
    "### 14. Order the companies by their `founded year`, retrieving only their `name` and `founded year`."
   ]
  },
  {
   "cell_type": "code",
   "execution_count": 105,
   "metadata": {},
   "outputs": [
    {
     "data": {
      "text/plain": [
       "[{'name': 'Alstrasoft', 'founded_year': 1800},\n",
       " {'name': 'SmallWorlds', 'founded_year': 1800},\n",
       " {'name': 'US Army', 'founded_year': 1800},\n",
       " {'name': 'DuPont', 'founded_year': 1802},\n",
       " {'name': 'McKesson', 'founded_year': 1833},\n",
       " {'name': 'Bachmann Industries', 'founded_year': 1833},\n",
       " {'name': 'Bertelsmann', 'founded_year': 1835},\n",
       " {'name': 'Accuity', 'founded_year': 1836},\n",
       " {'name': 'CENTRA', 'founded_year': 1839},\n",
       " {'name': 'VideoSurf', 'founded_year': 1840},\n",
       " {'name': 'WeGame', 'founded_year': 1840},\n",
       " {'name': 'VideoSurf', 'founded_year': 1840},\n",
       " {'name': 'The Economist Group', 'founded_year': 1843},\n",
       " {'name': 'Pearson', 'founded_year': 1844},\n",
       " {'name': 'Associated Press', 'founded_year': 1846},\n",
       " {'name': 'Beloit College', 'founded_year': 1846},\n",
       " {'name': 'Stiefel', 'founded_year': 1847},\n",
       " {'name': 'Siemens', 'founded_year': 1847},\n",
       " {'name': 'Pfizer', 'founded_year': 1848},\n",
       " {'name': 'Nykredit Realkredit', 'founded_year': 1851},\n",
       " {'name': 'Corning', 'founded_year': 1851},\n",
       " {'name': 'Leucadia National', 'founded_year': 1854},\n",
       " {'name': 'Louis Vuitton', 'founded_year': 1854},\n",
       " {'name': 'The McClatchy Company', 'founded_year': 1857},\n",
       " {'name': 'University of Washington', 'founded_year': 1861},\n",
       " {'name': 'Athenix', 'founded_year': 1863},\n",
       " {'name': 'Cornell University', 'founded_year': 1865},\n",
       " {'name': 'Nokia', 'founded_year': 1865},\n",
       " {'name': 'Millage, Inc', 'founded_year': 1867},\n",
       " {'name': 'Scotts Miracle-Gro', 'founded_year': 1868}]"
      ]
     },
     "execution_count": 105,
     "metadata": {},
     "output_type": "execute_result"
    }
   ],
   "source": [
    "# Your Code\n",
    "\n",
    "query = {\"founded_year\": {'$gte': 0}}\n",
    "\n",
    "\n",
    "res = collection.find(query, {\"name\": 1, \n",
    "                              \"founded_year\":1,\n",
    "                              \"_id\": 0}).limit(30).sort(\"founded_year\", 1)\n",
    "\n",
    "\n",
    "list(res)"
   ]
  },
  {
   "cell_type": "markdown",
   "metadata": {},
   "source": [
    "### 15. All the companies that have been founded on the first seven days of the month, including the seventh. Sort them by their `acquisition price` in a descending order. Limit the search to 10 documents."
   ]
  },
  {
   "cell_type": "code",
   "execution_count": 107,
   "metadata": {},
   "outputs": [
    {
     "data": {
      "text/plain": [
       "[{'name': 'Netscape',\n",
       "  'founded_day': 4,\n",
       "  'acquisition': {'price_amount': 4200000000.0}},\n",
       " {'name': 'PayPal',\n",
       "  'founded_day': 1,\n",
       "  'acquisition': {'price_amount': 1500000000}},\n",
       " {'name': 'Zappos',\n",
       "  'founded_day': 1,\n",
       "  'acquisition': {'price_amount': 1200000000}},\n",
       " {'name': 'Alibaba',\n",
       "  'founded_day': 1,\n",
       "  'acquisition': {'price_amount': 1000000000}},\n",
       " {'name': 'Postini',\n",
       "  'founded_day': 2,\n",
       "  'acquisition': {'price_amount': 625000000}},\n",
       " {'name': 'Danger',\n",
       "  'founded_day': 1,\n",
       "  'acquisition': {'price_amount': 500000000}},\n",
       " {'name': 'Clearwell Systems',\n",
       "  'founded_day': 6,\n",
       "  'acquisition': {'price_amount': 410000000}},\n",
       " {'name': 'PrimeSense',\n",
       "  'founded_day': 1,\n",
       "  'acquisition': {'price_amount': 345000000}},\n",
       " {'name': 'Amobee',\n",
       "  'founded_day': 1,\n",
       "  'acquisition': {'price_amount': 321000000}},\n",
       " {'name': 'Vitrue',\n",
       "  'founded_day': 1,\n",
       "  'acquisition': {'price_amount': 300000000}}]"
      ]
     },
     "execution_count": 107,
     "metadata": {},
     "output_type": "execute_result"
    }
   ],
   "source": [
    "# Your Code\n",
    "\n",
    "\n",
    "query = {'$and': [{\"founded_day\": {'$lte': 7}},\n",
    "                {\"founded_day\": {'$gte': 1}}]}\n",
    "\n",
    "\n",
    "res = collection.find(query, {\"name\": 1, \n",
    "                              \"founded_day\":1,\n",
    "                              \"acquisition.price_amount\":1, \n",
    "                              \"_id\": 0}).limit(10).sort(\"acquisition.price_amount\", -1)\n",
    "\n",
    "\n",
    "list(res)"
   ]
  },
  {
   "cell_type": "markdown",
   "metadata": {},
   "source": [
    "### 16. All the companies on the 'web' `category` that have more than 4000 employees. Sort them by the amount of employees in ascending order."
   ]
  },
  {
   "cell_type": "code",
   "execution_count": 112,
   "metadata": {},
   "outputs": [
    {
     "data": {
      "text/plain": [
       "[{'name': 'Expedia', 'category_code': 'web', 'number_of_employees': 4400},\n",
       " {'name': 'AOL', 'category_code': 'web', 'number_of_employees': 8000},\n",
       " {'name': 'Webkinz', 'category_code': 'web', 'number_of_employees': 8657},\n",
       " {'name': 'Rakuten', 'category_code': 'web', 'number_of_employees': 10000},\n",
       " {'name': 'Los Angeles Times Media Group',\n",
       "  'category_code': 'web',\n",
       "  'number_of_employees': 10000},\n",
       " {'name': 'Groupon', 'category_code': 'web', 'number_of_employees': 10000},\n",
       " {'name': 'Yahoo!', 'category_code': 'web', 'number_of_employees': 13600},\n",
       " {'name': 'eBay', 'category_code': 'web', 'number_of_employees': 15000},\n",
       " {'name': 'Experian', 'category_code': 'web', 'number_of_employees': 15500}]"
      ]
     },
     "execution_count": 112,
     "metadata": {},
     "output_type": "execute_result"
    }
   ],
   "source": [
    "# Your Code\n",
    "\n",
    "query = {'$and': [{\"number_of_employees\": {\"$gt\": 4000}},\n",
    "                  {'category_code': 'web'}]}\n",
    "\n",
    "res = collection.find(query, {\"name\": 1, \n",
    "                              \"number_of_employees\": 1,\n",
    "                              \"category_code\": 1, \n",
    "                              \"_id\": 0}).limit(20).sort(\"number_of_employees\", 1)\n",
    "\n",
    "list(res)"
   ]
  },
  {
   "cell_type": "markdown",
   "metadata": {},
   "source": [
    "### 17. All the companies whose acquisition amount is more than 10.000.000, and currency is 'EUR'."
   ]
  },
  {
   "cell_type": "code",
   "execution_count": 114,
   "metadata": {},
   "outputs": [
    {
     "data": {
      "text/plain": [
       "[{'name': 'ZYB',\n",
       "  'acquisition': {'price_amount': 31500000, 'price_currency_code': 'EUR'}},\n",
       " {'name': 'Apertio',\n",
       "  'acquisition': {'price_amount': 140000000, 'price_currency_code': 'EUR'}},\n",
       " {'name': 'Greenfield Online',\n",
       "  'acquisition': {'price_amount': 40000000, 'price_currency_code': 'EUR'}},\n",
       " {'name': 'Webedia',\n",
       "  'acquisition': {'price_amount': 70000000, 'price_currency_code': 'EUR'}},\n",
       " {'name': 'Wayfinder',\n",
       "  'acquisition': {'price_amount': 24000000, 'price_currency_code': 'EUR'}},\n",
       " {'name': 'Tuenti Technologies',\n",
       "  'acquisition': {'price_amount': 70000000, 'price_currency_code': 'EUR'}},\n",
       " {'name': 'BioMed Central',\n",
       "  'acquisition': {'price_amount': 43400000, 'price_currency_code': 'EUR'}}]"
      ]
     },
     "execution_count": 114,
     "metadata": {},
     "output_type": "execute_result"
    }
   ],
   "source": [
    "# Your Code\n",
    "\n",
    "query = {'$and': [{'acquisition.price_currency_code': \"EUR\"},\n",
    "                  {'acquisition.price_amount': {'$gt': 10000000}}\n",
    "                 ]}\n",
    "        \n",
    "\n",
    "res = collection.find(query, {\"name\": 1, \n",
    "                              \"acquisition.price_amount\": 1,\n",
    "                              'acquisition.price_currency_code': 1, \n",
    "                              \"_id\": 0}).limit(10)\n",
    "list(res)"
   ]
  },
  {
   "cell_type": "markdown",
   "metadata": {},
   "source": [
    "### 18. All the companies that have been acquired on the first trimester of the year. Limit the search to 10 companies, and retrieve only their `name` and `acquisition` fields."
   ]
  },
  {
   "cell_type": "code",
   "execution_count": 116,
   "metadata": {},
   "outputs": [
    {
     "data": {
      "text/plain": [
       "[{'name': 'Kyte', 'acquisition': {'acquired_month': 1}},\n",
       " {'name': 'NetRatings', 'acquisition': {'acquired_month': 2}},\n",
       " {'name': 'blogTV', 'acquisition': {'acquired_month': 3}},\n",
       " {'name': 'Livestream', 'acquisition': {'acquired_month': 1}},\n",
       " {'name': 'iContact', 'acquisition': {'acquired_month': 2}},\n",
       " {'name': 'Coghead', 'acquisition': {'acquired_month': 2}},\n",
       " {'name': 'Dailymotion', 'acquisition': {'acquired_month': 2}},\n",
       " {'name': 'Netvibes', 'acquisition': {'acquired_month': 2}},\n",
       " {'name': 'Flickr', 'acquisition': {'acquired_month': 3}},\n",
       " {'name': 'BabyCenter', 'acquisition': {'acquired_month': 3}}]"
      ]
     },
     "execution_count": 116,
     "metadata": {},
     "output_type": "execute_result"
    }
   ],
   "source": [
    "# Your Code\n",
    "\n",
    "query = {'$and': [{\"acquisition.acquired_month\": {'$lte': 3}},\n",
    "                {\"acquisition.acquired_month\": {'$gte': 1}}]}\n",
    "        \n",
    "\n",
    "res = collection.find(query, {\"name\": 1, \n",
    "                              \"acquisition.acquired_month\": 1, \n",
    "                              \"_id\": 0}).limit(10)\n",
    "\n",
    "\n",
    "list(res) "
   ]
  },
  {
   "cell_type": "markdown",
   "metadata": {},
   "source": [
    "# Bonus\n",
    "### 19. All the companies that have been founded between 2000 and 2010, but have not been acquired before 2011."
   ]
  },
  {
   "cell_type": "code",
   "execution_count": 20,
   "metadata": {},
   "outputs": [],
   "source": [
    "# Your Code"
   ]
  },
  {
   "cell_type": "markdown",
   "metadata": {},
   "source": [
    "### 20. All the companies that have been 'deadpooled' after the third year."
   ]
  },
  {
   "cell_type": "code",
   "execution_count": 21,
   "metadata": {},
   "outputs": [],
   "source": [
    "# Your Code"
   ]
  }
 ],
 "metadata": {
  "kernelspec": {
   "display_name": "Python 3 (ipykernel)",
   "language": "python",
   "name": "python3"
  },
  "language_info": {
   "codemirror_mode": {
    "name": "ipython",
    "version": 3
   },
   "file_extension": ".py",
   "mimetype": "text/x-python",
   "name": "python",
   "nbconvert_exporter": "python",
   "pygments_lexer": "ipython3",
   "version": "3.11.4"
  }
 },
 "nbformat": 4,
 "nbformat_minor": 2
}
